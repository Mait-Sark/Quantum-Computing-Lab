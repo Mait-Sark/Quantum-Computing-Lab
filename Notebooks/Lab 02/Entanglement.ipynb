{
 "cells": [
  {
   "cell_type": "code",
   "execution_count": 70,
   "metadata": {},
   "outputs": [],
   "source": [
    "from qiskit import *\n",
    "from qiskit.quantum_info import *\n",
    "import numpy as np\n",
    "# from qiskit.quantum_info import DensityMatrix,partial_trace\n",
    "from numpy.linalg import eig\n",
    "import matplotlib.pyplot as plt"
   ]
  },
  {
   "cell_type": "code",
   "execution_count": 71,
   "metadata": {},
   "outputs": [],
   "source": [
    "# function to generate parametrized bell  \n",
    "\n",
    "def fn_pbs_circ(theta):\n",
    "    #circuit 2 qubit \n",
    "    qc = QuantumCircuit(2)\n",
    "    # qc.h(1)\n",
    "    qc.ry(theta,0)\n",
    "    qc.cx(0,1)\n",
    "\n",
    "# density matrix corresponding to state generated (2 qubit)\n",
    "    rho = DensityMatrix(qc)\n",
    "    \n",
    "\n",
    "    return qc, rho"
   ]
  },
  {
   "cell_type": "code",
   "execution_count": null,
   "metadata": {},
   "outputs": [],
   "source": []
  },
  {
   "cell_type": "code",
   "execution_count": 72,
   "metadata": {},
   "outputs": [
    {
     "data": {
      "image/png": "[encoded data removed]",
      "text/plain": [
       "<Figure size 287.294x200.667 with 1 Axes>"
      ]
     },
     "execution_count": 72,
     "metadata": {},
     "output_type": "execute_result"
    }
   ],
   "source": [
    "fn_pbs_circ(0)[0].draw('mpl')"
   ]
  },
  {
   "cell_type": "code",
   "execution_count": 73,
   "metadata": {},
   "outputs": [
    {
     "name": "stdout",
     "output_type": "stream",
     "text": [
      "DensityMatrix([[1.+0.j, 0.+0.j, 0.+0.j, 0.+0.j],\n",
      "               [0.+0.j, 0.+0.j, 0.+0.j, 0.+0.j],\n",
      "               [0.+0.j, 0.+0.j, 0.+0.j, 0.+0.j],\n",
      "               [0.+0.j, 0.+0.j, 0.+0.j, 0.+0.j]],\n",
      "              dims=(2, 2))\n"
     ]
    }
   ],
   "source": [
    "fn_pbs_circ(0)[1]"
   ]
  },
  {
   "cell_type": "code",
   "execution_count": 74,
   "metadata": {},
   "outputs": [
    {
     "name": "stdout",
     "output_type": "stream",
     "text": [
      "DensityMatrix([[0.5+0.j, 0. +0.j, 0. +0.j, 0.5+0.j],\n",
      "               [0. +0.j, 0. +0.j, 0. +0.j, 0. +0.j],\n",
      "               [0. +0.j, 0. +0.j, 0. +0.j, 0. +0.j],\n",
      "               [0.5+0.j, 0. +0.j, 0. +0.j, 0.5+0.j]],\n",
      "              dims=(2, 2))\n"
     ]
    }
   ],
   "source": [
    "fn_pbs_circ(np.pi/2)[1]"
   ]
  },
  {
   "cell_type": "code",
   "execution_count": 75,
   "metadata": {},
   "outputs": [
    {
     "data": {
      "text/plain": [
       "np.complex128(1+0j)"
      ]
     },
     "execution_count": 75,
     "metadata": {},
     "output_type": "execute_result"
    }
   ],
   "source": [
    "#purity \n",
    "purity(fn_pbs_circ(np.pi/2)[1])"
   ]
  },
  {
   "cell_type": "code",
   "execution_count": null,
   "metadata": {},
   "outputs": [],
   "source": []
  },
  {
   "cell_type": "code",
   "execution_count": 76,
   "metadata": {},
   "outputs": [
    {
     "name": "stdout",
     "output_type": "stream",
     "text": [
      "DensityMatrix([[0.5+0.j, 0. +0.j, 0. +0.j, 0.5+0.j],\n",
      "               [0. +0.j, 0. +0.j, 0. +0.j, 0. +0.j],\n",
      "               [0. +0.j, 0. +0.j, 0. +0.j, 0. +0.j],\n",
      "               [0.5+0.j, 0. +0.j, 0. +0.j, 0.5+0.j]],\n",
      "              dims=(2, 2))\n"
     ]
    }
   ],
   "source": [
    "qc1 = QuantumCircuit(2)\n",
    "qc1.h(0)\n",
    "# qc1.h(1)\n",
    "# qc1.ry(theta,0)\n",
    "qc1.cx(0,1)\n",
    "\n",
    "# density matrix corresponding to state generated (2 qubit)\n",
    "rho1 = DensityMatrix(qc1)\n",
    "rho1"
   ]
  },
  {
   "cell_type": "code",
   "execution_count": 80,
   "metadata": {},
   "outputs": [
    {
     "name": "stdout",
     "output_type": "stream",
     "text": [
      "DensityMatrix([[0.5+0.j, 0. +0.j],\n",
      "               [0. +0.j, 0.5+0.j]],\n",
      "              dims=(2,))\n"
     ]
    }
   ],
   "source": [
    "#partial tarce\n",
    "partial_trace(state=rho1, qargs=[0])"
   ]
  },
  {
   "cell_type": "code",
   "execution_count": 81,
   "metadata": {},
   "outputs": [
    {
     "data": {
      "text/plain": [
       "np.complex128(0.4999999999999998+0j)"
      ]
     },
     "execution_count": 81,
     "metadata": {},
     "output_type": "execute_result"
    }
   ],
   "source": [
    "purity(partial_trace(state=rho1, qargs=[0]))"
   ]
  },
  {
   "cell_type": "code",
   "execution_count": 77,
   "metadata": {},
   "outputs": [
    {
     "name": "stdout",
     "output_type": "stream",
     "text": [
      "DensityMatrix([[1.+0.j, 0.+0.j],\n",
      "               [0.+0.j, 0.+0.j]],\n",
      "              dims=(2,))\n"
     ]
    }
   ],
   "source": [
    "#partial tarce\n",
    "partial_trace(state=fn_pbs_circ(0)[1], qargs=[0])\n"
   ]
  },
  {
   "cell_type": "code",
   "execution_count": 78,
   "metadata": {},
   "outputs": [
    {
     "data": {
      "text/plain": [
       "np.complex128(1+0j)"
      ]
     },
     "execution_count": 78,
     "metadata": {},
     "output_type": "execute_result"
    }
   ],
   "source": [
    "purity(partial_trace(state=fn_pbs_circ(0)[1], qargs=[1]))"
   ]
  },
  {
   "cell_type": "code",
   "execution_count": null,
   "metadata": {},
   "outputs": [],
   "source": [
    "partial_trace(state=fn_pbs_circ(0)[1], qargs=[0])"
   ]
  },
  {
   "cell_type": "code",
   "execution_count": null,
   "metadata": {},
   "outputs": [],
   "source": [
    "partial_trace(state=fn_pbs_circ(np.pi/2)[1], qargs=[0])"
   ]
  },
  {
   "cell_type": "code",
   "execution_count": null,
   "metadata": {},
   "outputs": [],
   "source": [
    "purity(partial_trace(state=fn_pbs_circ(np.pi/2)[1], qargs=[1]))"
   ]
  },
  {
   "cell_type": "code",
   "execution_count": 117,
   "metadata": {},
   "outputs": [],
   "source": [
    "# # schmidt_decomposition\n",
    "# schmidt_decomposition(fn_pbs_circ(np.pi/2)[1],[1])"
   ]
  },
  {
   "cell_type": "code",
   "execution_count": 118,
   "metadata": {},
   "outputs": [],
   "source": [
    "# schmidt_decomposition(rho1,[1])"
   ]
  },
  {
   "cell_type": "code",
   "execution_count": 119,
   "metadata": {},
   "outputs": [],
   "source": [
    "# # schmidt_decomposition\n",
    "# schmidt_decomposition(fn_pbs_circ(np.pi/2)[1],[1])"
   ]
  },
  {
   "cell_type": "code",
   "execution_count": 120,
   "metadata": {},
   "outputs": [
    {
     "data": {
      "image/png": "[encoded data removed]",
      "text/plain": [
       "<Figure size 287.294x200.667 with 1 Axes>"
      ]
     },
     "execution_count": 120,
     "metadata": {},
     "output_type": "execute_result"
    }
   ],
   "source": [
    "fn_pbs_circ(np.pi/2)[0].draw('mpl')"
   ]
  },
  {
   "cell_type": "code",
   "execution_count": 121,
   "metadata": {},
   "outputs": [
    {
     "name": "stdout",
     "output_type": "stream",
     "text": [
      "DensityMatrix([[0.5+0.j, 0. +0.j, 0. +0.j, 0.5+0.j],\n",
      "               [0. +0.j, 0. +0.j, 0. +0.j, 0. +0.j],\n",
      "               [0. +0.j, 0. +0.j, 0. +0.j, 0. +0.j],\n",
      "               [0.5+0.j, 0. +0.j, 0. +0.j, 0.5+0.j]],\n",
      "              dims=(2, 2))\n"
     ]
    }
   ],
   "source": [
    "fn_pbs_circ(np.pi/2)[1]"
   ]
  },
  {
   "cell_type": "code",
   "execution_count": 122,
   "metadata": {},
   "outputs": [],
   "source": [
    "# qiskit inbuilt function \n",
    "theta = np.arange(0,np.pi/2,0.1)\n",
    "rho_mat = []\n",
    "for i in range(len(theta)):\n",
    "        qc,rho =fn_pbs_circ(theta[i])\n",
    "        rho_mat.append(rho)\n"
   ]
  },
  {
   "cell_type": "code",
   "execution_count": 123,
   "metadata": {},
   "outputs": [
    {
     "name": "stderr",
     "output_type": "stream",
     "text": [
      "<>:11: SyntaxWarning: invalid escape sequence '\\p'\n",
      "<>:11: SyntaxWarning: invalid escape sequence '\\p'\n",
      "/var/folders/d1/x6kjgrmn6dx696cv25ynnn580000gn/T/ipykernel_21293/3152002568.py:11: SyntaxWarning: invalid escape sequence '\\p'\n",
      "  plt.xlabel(\"$\\u03b8 (\\pi)$\", fontsize=11)\n"
     ]
    },
    {
     "data": {
      "text/plain": [
       "Text(0, 0.5, 'S($ρ$)')"
      ]
     },
     "execution_count": 123,
     "metadata": {},
     "output_type": "execute_result"
    },
    {
     "data": {
      "image/png": "[encoded data removed]",
      "text/plain": [
       "<Figure size 640x480 with 1 Axes>"
      ]
     },
     "metadata": {},
     "output_type": "display_data"
    }
   ],
   "source": [
    "#von-Neumann entropy \n",
    "#S(ρ)=−Tr[ρlog(ρ)] = sum(-eig log(eig))\n",
    "sa=[]\n",
    "for i in range(len(theta)):\n",
    "        rho_0=partial_trace(state=rho_mat[i], qargs=[1])\n",
    "        en=entropy(rho_0)\n",
    "        sa.append(en)\n",
    "\n",
    "\n",
    "plt.plot(theta,sa)\n",
    "plt.xlabel(\"$\\u03b8 (\\pi)$\", fontsize=11)\n",
    "plt.ylabel(\"S($\\u03c1$)\") \n"
   ]
  },
  {
   "cell_type": "code",
   "execution_count": 124,
   "metadata": {},
   "outputs": [
    {
     "data": {
      "text/plain": [
       "Text(0, 0.5, '$E_{f}(\\\\rho_{12})$')"
      ]
     },
     "execution_count": 124,
     "metadata": {},
     "output_type": "execute_result"
    },
    {
     "data": {
      "image/png": "[encoded data removed]",
      "text/plain": [
       "<Figure size 640x480 with 1 Axes>"
      ]
     },
     "metadata": {},
     "output_type": "display_data"
    }
   ],
   "source": [
    "# is there any difference ?\n",
    "ef=[]\n",
    "for i in range(len(theta)):\n",
    "        # rho_0=partial_trace(state=den_mat[i], qargs=[1])\n",
    "        e= entanglement_of_formation(rho_mat[i])\n",
    "        ef.append(e)\n",
    "\n",
    "plt.plot(theta, ef)\n",
    "plt.xlabel(r\"$\\theta \\, (\\pi)$\", fontsize=11)\n",
    "plt.ylabel(r\"$E_{f}(\\rho_{12})$\", fontsize=11)\n",
    "\n",
    "# plt.plot(theta, ef)\n",
    "# plt.xlabel(\"$\\u03b8 (\\pi)$\", fontsize=11)\n",
    "# plt.ylabel(\"$E_{f}(\\u03c1_{12})$\")"
   ]
  },
  {
   "cell_type": "code",
   "execution_count": 125,
   "metadata": {},
   "outputs": [],
   "source": [
    "#Task apply local unitary operation on entangled quantum states and observe results for entropy"
   ]
  },
  {
   "cell_type": "code",
   "execution_count": null,
   "metadata": {},
   "outputs": [],
   "source": []
  },
  {
   "cell_type": "code",
   "execution_count": 126,
   "metadata": {},
   "outputs": [],
   "source": [
    "def fn_pbs_circ_con(theta):\n",
    "    #circuit 2 qubit \n",
    "    qc = QuantumCircuit(2)\n",
    "    qc.ry(theta,0)\n",
    "    qc.cx(0,1)\n",
    "\n",
    "# density matrix corresponding to state generated (2 qubit)\n",
    "    rho = DensityMatrix(qc)\n",
    "   \n",
    "\n",
    "    rho_star = np.conjugate(rho)\n",
    "\n",
    "    y = np.array([[0, -1j],[1j, 0]])\n",
    "    y_tensor = np.kron(y,y).real\n",
    "\n",
    "\n",
    "    #print(rho,rho_tilda)\n",
    "    rho_tilta = np.matmul(y_tensor, np.matmul(rho_star ,y_tensor))\n",
    "    rho_final = np.matmul(rho, rho_tilta)\n",
    "    values,vectors = eig(rho_final)\n",
    "    eig_value = values.round(3)\n",
    "    eig_vector = vectors.round(3)\n",
    "    eig_value.sort()\n",
    "    #print(eig_value.real)\n",
    "    lambda1 = np.sqrt(eig_value[3])\n",
    "    lambda2 = np.sqrt(eig_value[2])\n",
    "    lambda3 = np.sqrt(eig_value[1])\n",
    "    lambda4 = np.sqrt(eig_value[0])\n",
    "    # max eigenvalue sqrt\n",
    "    # max_eig_val= max(lambda1,lambda2,lambda3,lambda4)\n",
    "    # sum of other eigenvalues sqrt\n",
    "    # sum_oth=  ( lambda1 + lambda2 +lambda3 + lambda4 ) - max_eig_val\n",
    "\n",
    "# concurrence \n",
    "    # conc = max(0,np.real(max_eig_val -sum_oth))\n",
    "    conc = max(0,np.real(lambda1 - lambda2 -lambda3 - lambda4 ))\n",
    "\n",
    "    return qc,rho, conc\n"
   ]
  },
  {
   "cell_type": "code",
   "execution_count": 127,
   "metadata": {},
   "outputs": [],
   "source": [
    "theta = np.arange(0,np.pi/2,0.1)\n",
    "con_list =[]\n",
    "den_mat = []\n",
    "for i in range(len(theta)):\n",
    "        qc,rho, conc=fn_pbs_circ_con(theta[i])\n",
    "        den_mat.append(rho)\n",
    "        con_list.append(conc)"
   ]
  },
  {
   "cell_type": "code",
   "execution_count": 128,
   "metadata": {},
   "outputs": [
    {
     "data": {
      "text/plain": [
       "Text(0, 0.5, 'concurrence')"
      ]
     },
     "execution_count": 128,
     "metadata": {},
     "output_type": "execute_result"
    },
    {
     "data": {
      "image/png": "[encoded data removed]",
      "text/plain": [
       "<Figure size 640x480 with 1 Axes>"
      ]
     },
     "metadata": {},
     "output_type": "display_data"
    }
   ],
   "source": [
    "\n",
    "\n",
    "plt.plot(theta,con_list)\n",
    "plt.xlabel(r\"$\\theta \\, (\\pi)$\", fontsize=11)\n",
    "plt.ylabel(\"concurrence\")"
   ]
  },
  {
   "cell_type": "code",
   "execution_count": null,
   "metadata": {},
   "outputs": [],
   "source": []
  },
  {
   "cell_type": "code",
   "execution_count": 129,
   "metadata": {},
   "outputs": [
    {
     "data": {
      "image/png": "[encoded data removed]",
      "text/plain": [
       "<Figure size 287.294x200.667 with 1 Axes>"
      ]
     },
     "execution_count": 129,
     "metadata": {},
     "output_type": "execute_result"
    }
   ],
   "source": [
    "fn_pbs_circ(0)[0].draw('mpl')"
   ]
  },
  {
   "cell_type": "code",
   "execution_count": 130,
   "metadata": {},
   "outputs": [
    {
     "data": {
      "text/plain": [
       "0.0"
      ]
     },
     "execution_count": 130,
     "metadata": {},
     "output_type": "execute_result"
    }
   ],
   "source": [
    "concurrence(fn_pbs_circ(0)[1])"
   ]
  },
  {
   "cell_type": "code",
   "execution_count": 131,
   "metadata": {},
   "outputs": [
    {
     "data": {
      "text/plain": [
       "np.float64(0.7071067811865475)"
      ]
     },
     "execution_count": 131,
     "metadata": {},
     "output_type": "execute_result"
    }
   ],
   "source": [
    "np.sin(np.pi/4)"
   ]
  },
  {
   "cell_type": "code",
   "execution_count": 132,
   "metadata": {},
   "outputs": [
    {
     "data": {
      "image/png": "[encoded data removed]",
      "text/plain": [
       "<Figure size 287.294x200.667 with 1 Axes>"
      ]
     },
     "execution_count": 132,
     "metadata": {},
     "output_type": "execute_result"
    }
   ],
   "source": [
    "fn_pbs_circ(np.pi/4)[0].draw('mpl')"
   ]
  },
  {
   "cell_type": "code",
   "execution_count": 133,
   "metadata": {},
   "outputs": [
    {
     "data": {
      "text/plain": [
       "np.float64(0.9999999937348335)"
      ]
     },
     "execution_count": 133,
     "metadata": {},
     "output_type": "execute_result"
    }
   ],
   "source": [
    "concurrence(fn_pbs_circ(np.pi/2)[1])"
   ]
  },
  {
   "cell_type": "code",
   "execution_count": 134,
   "metadata": {},
   "outputs": [],
   "source": [
    "# qiskit inbuilt function \n",
    "theta = np.arange(0,np.pi/2,0.1)\n",
    "con_list_1 =[]\n",
    "den_mat_1 = []\n",
    "for i in range(len(theta)):\n",
    "        qc,rho =fn_pbs_circ(theta[i])\n",
    "        den_mat_1.append(rho)\n",
    "        conc=concurrence(fn_pbs_circ(theta[i])[1])\n",
    "        con_list_1.append(conc)"
   ]
  },
  {
   "cell_type": "code",
   "execution_count": 135,
   "metadata": {},
   "outputs": [
    {
     "name": "stderr",
     "output_type": "stream",
     "text": [
      "<>:2: SyntaxWarning: invalid escape sequence '\\p'\n",
      "<>:2: SyntaxWarning: invalid escape sequence '\\p'\n",
      "/var/folders/d1/x6kjgrmn6dx696cv25ynnn580000gn/T/ipykernel_21293/4274401937.py:2: SyntaxWarning: invalid escape sequence '\\p'\n",
      "  plt.xlabel(\"$\\u03b8 (\\pi)$\", fontsize=11)\n"
     ]
    },
    {
     "data": {
      "text/plain": [
       "Text(0, 0.5, 'concurrence')"
      ]
     },
     "execution_count": 135,
     "metadata": {},
     "output_type": "execute_result"
    },
    {
     "data": {
      "image/png": "[encoded data removed]",
      "text/plain": [
       "<Figure size 640x480 with 1 Axes>"
      ]
     },
     "metadata": {},
     "output_type": "display_data"
    }
   ],
   "source": [
    "\n",
    "\n",
    "plt.plot(theta,con_list_1)\n",
    "plt.xlabel(\"$\\u03b8 (\\pi)$\", fontsize=11)\n",
    "plt.ylabel(\"concurrence\")"
   ]
  },
  {
   "cell_type": "code",
   "execution_count": 136,
   "metadata": {},
   "outputs": [
    {
     "data": {
      "image/png": "[encoded data removed]",
      "text/plain": [
       "<Figure size 287.294x200.667 with 1 Axes>"
      ]
     },
     "execution_count": 136,
     "metadata": {},
     "output_type": "execute_result"
    }
   ],
   "source": [
    "# lets ask individual question to entangled particles \n",
    "# (sigma \\tesnor I) and (I \\tesnor sigma )\n",
    "concurrence(fn_pbs_circ(0)[1])\n",
    "# qc.x(0)\n",
    "qc.draw('mpl')"
   ]
  },
  {
   "cell_type": "code",
   "execution_count": 137,
   "metadata": {},
   "outputs": [
    {
     "data": {
      "image/png": "[encoded data removed]",
      "text/plain": [
       "<Figure size 370.906x200.667 with 1 Axes>"
      ]
     },
     "execution_count": 137,
     "metadata": {},
     "output_type": "execute_result"
    }
   ],
   "source": [
    "qc1=fn_pbs_circ(np.pi/2)[0]\n",
    "qc1.x(0)\n",
    "qc1.draw('mpl')"
   ]
  },
  {
   "cell_type": "code",
   "execution_count": 138,
   "metadata": {},
   "outputs": [
    {
     "data": {
      "text/plain": [
       "<qiskit.circuit.quantumcircuit.QuantumCircuit at 0x1468de420>"
      ]
     },
     "execution_count": 138,
     "metadata": {},
     "output_type": "execute_result"
    }
   ],
   "source": [
    "fn_pbs_circ(np.pi/2)[0]"
   ]
  },
  {
   "cell_type": "code",
   "execution_count": 139,
   "metadata": {},
   "outputs": [],
   "source": [
    "# aksing individual questions (ZI,IZ,...) and combined question (ZZ, XX,YY)\n"
   ]
  },
  {
   "cell_type": "code",
   "execution_count": 140,
   "metadata": {},
   "outputs": [
    {
     "data": {
      "text/plain": [
       "1.0"
      ]
     },
     "execution_count": 140,
     "metadata": {},
     "output_type": "execute_result"
    }
   ],
   "source": [
    "from qiskit_aer import AerSimulator\n",
    "from qiskit_aer.primitives import EstimatorV2 as Estimator\n",
    "from qiskit.transpiler.preset_passmanagers import generate_preset_pass_manager\n",
    "from qiskit.quantum_info import Pauli\n",
    "\n",
    "ZZ=Pauli('ZZ')\n",
    "YY=Pauli('YY')\n",
    "XX=Pauli('XX')\n",
    "IZ=Pauli('IZ')\n",
    "ZI=Pauli('ZI')\n",
    "IX=Pauli('IX')\n",
    "XI=Pauli('XI')\n",
    "IY=Pauli('IY')\n",
    "YI=Pauli('YI')\n",
    "observables = [ZZ ,YY,XX, IZ, ZI,IX, XI,IY, YI]\n",
    "\n",
    "estimator = Estimator()\n",
    " \n",
    "\n",
    "# The circuit needs to be transpiled to the AerSimulator target\n",
    "pass_manager = generate_preset_pass_manager(optimization_level=1, backend=AerSimulator())\n",
    "isa_circuit = pass_manager.run(qc1)\n",
    "\n",
    "pub = (isa_circuit, observables[2])\n",
    "\n",
    "job = estimator.run([pub])\n",
    "result = job.result()\n",
    "pub_result = result[0]\n",
    "exa_value = float(pub_result.data.evs)\n",
    "exa_value"
   ]
  },
  {
   "cell_type": "code",
   "execution_count": 141,
   "metadata": {},
   "outputs": [
    {
     "name": "stdout",
     "output_type": "stream",
     "text": [
      "-1.0\n",
      "1.0\n",
      "1.0\n",
      "-2.220446049250313e-16\n",
      "2.220446049250313e-16\n",
      "0.0\n",
      "0.0\n",
      "0.0\n",
      "0.0\n"
     ]
    }
   ],
   "source": [
    "for i in range(len(observables)):\n",
    "    pub = (isa_circuit, observables[i])\n",
    "\n",
    "    job = estimator.run([pub])\n",
    "    result = job.result()\n",
    "    pub_result = result[0]\n",
    "    exa_value = float(pub_result.data.evs)\n",
    "    print(exa_value)"
   ]
  },
  {
   "cell_type": "code",
   "execution_count": 142,
   "metadata": {},
   "outputs": [
    {
     "data": {
      "text/plain": [
       "0.0"
      ]
     },
     "execution_count": 142,
     "metadata": {},
     "output_type": "execute_result"
    }
   ],
   "source": [
    "from qiskit_aer import AerSimulator\n",
    "from qiskit_aer.primitives import EstimatorV2 as Estimator\n",
    "from qiskit.transpiler.preset_passmanagers import generate_preset_pass_manager\n",
    "from qiskit.quantum_info import Pauli\n",
    "\n",
    "ZZ=Pauli('ZZ')\n",
    "YY=Pauli('YY')\n",
    "XX=Pauli('XX')\n",
    "IZ=Pauli('IZ')\n",
    "ZI=Pauli('ZI')\n",
    "IX=Pauli('IX')\n",
    "XI=Pauli('XI')\n",
    "IY=Pauli('IY')\n",
    "YI=Pauli('YI')\n",
    "observables = [ZZ ,YY,XX, IZ, ZI,IX, XI,IY, YI]\n",
    "\n",
    "estimator = Estimator()\n",
    " \n",
    "\n",
    "# The circuit needs to be transpiled to the AerSimulator target\n",
    "pass_manager = generate_preset_pass_manager(optimization_level=1, backend=AerSimulator())\n",
    "isa_circuit = pass_manager.run(fn_pbs_circ(0)[0])\n",
    "\n",
    "pub = (isa_circuit, observables[2])\n",
    "\n",
    "job = estimator.run([pub])\n",
    "result = job.result()\n",
    "pub_result = result[0]\n",
    "exa_value = float(pub_result.data.evs)\n",
    "exa_value"
   ]
  },
  {
   "cell_type": "code",
   "execution_count": 143,
   "metadata": {},
   "outputs": [
    {
     "name": "stdout",
     "output_type": "stream",
     "text": [
      "1.0\n",
      "0.0\n",
      "0.0\n",
      "1.0\n",
      "1.0\n",
      "0.0\n",
      "0.0\n",
      "0.0\n",
      "0.0\n"
     ]
    }
   ],
   "source": [
    "for i in range(len(observables)):\n",
    "    pub = (isa_circuit, observables[i])\n",
    "    job = estimator.run([pub])\n",
    "    result = job.result()\n",
    "    pub_result = result[0]\n",
    "    exa_value = float(pub_result.data.evs)\n",
    "    print(exa_value)"
   ]
  },
  {
   "cell_type": "code",
   "execution_count": null,
   "metadata": {},
   "outputs": [],
   "source": []
  },
  {
   "cell_type": "code",
   "execution_count": null,
   "metadata": {},
   "outputs": [],
   "source": []
  },
  {
   "cell_type": "code",
   "execution_count": null,
   "metadata": {},
   "outputs": [],
   "source": []
  }
 ],
 "metadata": {
  "kernelspec": {
   "display_name": "qcl",
   "language": "python",
   "name": "python3"
  },
  "language_info": {
   "codemirror_mode": {
    "name": "ipython",
    "version": 3
   },
   "file_extension": ".py",
   "mimetype": "text/x-python",
   "name": "python",
   "nbconvert_exporter": "python",
   "pygments_lexer": "ipython3",
   "version": "3.12.11"
  }
 },
 "nbformat": 4,
 "nbformat_minor": 2
}
