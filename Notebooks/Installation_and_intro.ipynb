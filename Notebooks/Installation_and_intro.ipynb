{
 "cells": [
  {
   "cell_type": "markdown",
   "id": "8605bca0",
   "metadata": {},
   "source": [
    "# **Introduction to qiskit**\n",
    "![Qiskit Logo](https://repository-images.githubusercontent.com/83821669/9207357a-cf9b-45ed-9974-0abc3df14b95)\n",
    "<!-- ![](https://qrisp.eu/_images/qiskit_logo.png) -->\n",
    "\n",
    "Qiskit is an open-source, Python-based, high-performance software stack for quantum computing, originally developed by IBM Research and first released in 2017. It provides tools for creating quantum programs and executing them on quantum computers or classical simulators.\\\n",
    "Qiskit is the world’s most popular software stack for quantum computing. Build circuits, leverage Qiskit functions, transpile with AI tools, and execute workloads in an optimized runtime environment.\n",
    "\n",
    "## Install miniconda\n",
    "##### Windows Command Prompt\n",
    "curl https://repo.anaconda.com/miniconda/Miniconda3-latest-Windows-x86_64.exe -o .\\miniconda.exe \\\n",
    "start /wait \"\" .\\miniconda.exe /S \\\n",
    "del .\\miniconda.exe\n",
    "\n",
    "##### macOS\n",
    "mkdir -p ~/miniconda3 \\\n",
    "curl https://repo.anaconda.com/miniconda/Miniconda3-latest-MacOSX-arm64.sh -o ~/miniconda3/miniconda.sh \\\n",
    "bash ~/miniconda3/miniconda.sh -b -u -p ~/miniconda3 \\\n",
    "rm ~/miniconda3/miniconda.sh \n",
    "\n",
    "##### Linux\n",
    "https://www.anaconda.com/docs/getting-started/miniconda/install#linux-2\n",
    "\n",
    "In case of any future updates, you can check the following link for qiskit installation.\\\n",
    "https://quantum.cloud.ibm.com/docs/en/guides/install-qiskit\n",
    "\n",
    "## Install and activate environment\n",
    "Download class.yml \\\n",
    "Open Anaconda prompt (windows) \\\n",
    "Open terminal (macOS and Linux)\n",
    "\n",
    "##### conda env create -f class.yml \n",
    "\n",
    "## Install Visual Studio Code\n",
    "##### Windows\n",
    "https://code.visualstudio.com/download\n",
    "\n",
    "\n",
    "##### macOS & Linux\n",
    "/bin/bash -c \"$(curl -fsSL https://raw.githubusercontent.com/Homebrew/install/HEAD/install.sh)\"\n",
    "\n",
    "brew install --cask visual-studio-code\n",
    "\n",
    "#### Just to make sure that we are on same page, check qiskit version with the following command"
   ]
  },
  {
   "cell_type": "code",
   "execution_count": null,
   "id": "4d4f3b50",
   "metadata": {},
   "outputs": [],
   "source": [
    "import qiskit\n",
    "print(qiskit.version.get_version_info())"
   ]
  },
  {
   "cell_type": "markdown",
   "id": "b187d6fd",
   "metadata": {},
   "source": [
    "Output should be >= 2.0.0"
   ]
  },
  {
   "cell_type": "code",
   "execution_count": null,
   "id": "b41f3dda",
   "metadata": {},
   "outputs": [],
   "source": [
    "import qiskit"
   ]
  },
  {
   "cell_type": "markdown",
   "id": "30f94e25",
   "metadata": {},
   "source": [
    "import → Python keyword that tells the interpreter to load an external library (a package or module).\\\n",
    "qiskit → The main Python package for quantum computing. It provides tools to build, simulate, and run quantum circuits and algorithms on quantum computers or simulators.\n",
    "\n",
    "So this line loads the Qiskit library into your program so you can use its functions.\n"
   ]
  },
  {
   "cell_type": "code",
   "execution_count": null,
   "id": "8979406c",
   "metadata": {},
   "outputs": [],
   "source": [
    "print(qiskit.version.get_version_info())"
   ]
  },
  {
   "cell_type": "markdown",
   "id": "c5b69a27",
   "metadata": {},
   "source": [
    "print(...) → A built-in Python function. It outputs whatever is inside the parentheses to the console or terminal.\\\n",
    "qiskit.version → The version submodule inside Qiskit. It contains information about the installed Qiskit version.\\\n",
    "get_version_info() → A function in qiskit.version. When called, it returns a dictionary containing version details of Qiskit and its components.\n",
    "\n",
    "#### In order to make sure that all cells of code run properly throughout this lesson, please run the following cell of code below:"
   ]
  },
  {
   "cell_type": "code",
   "execution_count": null,
   "id": "a31e3753",
   "metadata": {},
   "outputs": [],
   "source": [
    "from qiskit import QuantumRegister , ClassicalRegister, QuantumCircuit\n",
    "from qiskit_aer import StatevectorSimulator, QasmSimulator\n",
    "from qiskit.visualization import visualize_transition\n",
    "import numpy as np\n",
    "import math as m\n",
    "# import warnings\n",
    "# warnings.filterwarnings('ignore')\n",
    "\n",
    "S_simulator = StatevectorSimulator()\n",
    "M_simulator = QasmSimulator()"
   ]
  },
  {
   "cell_type": "markdown",
   "id": "3572876b",
   "metadata": {},
   "source": [
    "**QuantumRegister** – this is a class that holds our qubits. When we go to perform gate operations on our system, we call on the QuantumRegister’s index locations, corresponding to the qubits we are interested in.\\\n",
    "**QuantumCircuit** – this is a class that can be thought of as our ”instructions” for the quantum system. As we want to design larger and more complex algorithms, we will store operations into QuantumCircuits, which we can then call upon by simulators to run them later.\\\n",
    "**Aer** – this is a class that handles using classical simulator backends. Since we will be doing all of our tutorials via classical simulations, we will be using this class regularly. The actual name for this class is AerProvider, but qiskit just lets us import and use it as Aer."
   ]
  },
  {
   "cell_type": "code",
   "execution_count": null,
   "id": "754f3871",
   "metadata": {},
   "outputs": [],
   "source": [
    "from qiskit import QuantumRegister , ClassicalRegister, QuantumCircuit"
   ]
  },
  {
   "cell_type": "markdown",
   "id": "7effba4c",
   "metadata": {},
   "source": [
    "from qiskit import ... → This tells Python: “go into the qiskit library and bring out specific objects.”\\\n",
    "QuantumRegister → A container for qubits. Example: QuantumRegister(2) creates a register of 2 qubits.\\\n",
    "ClassicalRegister → A container for classical bits (used to store measurement results of qubits).\\\n",
    "QuantumCircuit → The main class that lets you build quantum circuits by adding gates, measurements, and registers."
   ]
  },
  {
   "cell_type": "code",
   "execution_count": null,
   "id": "45acc110",
   "metadata": {},
   "outputs": [],
   "source": [
    "from qiskit_aer import StatevectorSimulator, QasmSimulator"
   ]
  },
  {
   "cell_type": "markdown",
   "id": "c07c3122",
   "metadata": {},
   "source": [
    "qiskit_aer → A package in Qiskit for fast simulation of quantum circuits.\\\n",
    "StatevectorSimulator → A simulator that represents the exact quantum statevector (amplitudes of basis states). It is deterministic (no randomness).\\\n",
    "QasmSimulator → A simulator that mimics a real quantum computer by sampling measurement outcomes according to quantum probabilities."
   ]
  },
  {
   "cell_type": "code",
   "execution_count": null,
   "id": "f15c581e",
   "metadata": {},
   "outputs": [],
   "source": [
    "from qiskit.visualization import visualize_transition"
   ]
  },
  {
   "cell_type": "markdown",
   "id": "7a658859",
   "metadata": {},
   "source": [
    "qiskit.visualization → The module for plotting and visualizing quantum states/circuits.\\\n",
    "visualize_transition → A function that helps visualize how a quantum state changes when a gate is applied."
   ]
  },
  {
   "cell_type": "code",
   "execution_count": null,
   "id": "819e76e0",
   "metadata": {},
   "outputs": [],
   "source": [
    "import numpy as np"
   ]
  },
  {
   "cell_type": "markdown",
   "id": "2511322f",
   "metadata": {},
   "source": [
    "Loads the NumPy library (used for arrays, math, linear algebra) and gives it the shortcut name np."
   ]
  },
  {
   "cell_type": "code",
   "execution_count": null,
   "id": "d3091a69",
   "metadata": {},
   "outputs": [],
   "source": [
    "import math as m"
   ]
  },
  {
   "cell_type": "markdown",
   "id": "1f858932",
   "metadata": {},
   "source": [
    "Loads Python’s built-in math library (for things like sin, cos, pi) and gives it a shortcut name m."
   ]
  },
  {
   "cell_type": "code",
   "execution_count": null,
   "id": "6f63cd56",
   "metadata": {},
   "outputs": [],
   "source": [
    "# import warnings"
   ]
  },
  {
   "cell_type": "markdown",
   "id": "cc17a90c",
   "metadata": {},
   "source": [
    "\\# → Comment symbol (Python ignores this). If uncommented, this would: load Python’s warnings module."
   ]
  },
  {
   "cell_type": "code",
   "execution_count": null,
   "id": "6305c37b",
   "metadata": {},
   "outputs": [],
   "source": [
    "# warnings.filterwarnings('ignore')"
   ]
  },
  {
   "cell_type": "markdown",
   "id": "e82369fc",
   "metadata": {},
   "source": [
    "suppress warning messages (useful if Qiskit or NumPy prints too many warnings)."
   ]
  },
  {
   "cell_type": "code",
   "execution_count": null,
   "id": "fcf6180d",
   "metadata": {},
   "outputs": [],
   "source": [
    "S_simulator = StatevectorSimulator()"
   ]
  },
  {
   "cell_type": "markdown",
   "id": "f4dab3c8",
   "metadata": {},
   "source": [
    "Creates an instance (object) of the StatevectorSimulator.\\\n",
    "S_simulator is now your personal simulator for exact quantum states."
   ]
  },
  {
   "cell_type": "code",
   "execution_count": null,
   "id": "3a77d420",
   "metadata": {},
   "outputs": [],
   "source": [
    "M_simulator = QasmSimulator()"
   ]
  },
  {
   "cell_type": "markdown",
   "id": "e7d9ec12",
   "metadata": {},
   "source": [
    "Creates an instance (object) of the QasmSimulator.\\\n",
    "M_simulator is now your simulator for probabilistic measurements (like a real quantum computer).\n"
   ]
  }
 ],
 "metadata": {
  "kernelspec": {
   "display_name": "qiskit-stable",
   "language": "python",
   "name": "python3"
  },
  "language_info": {
   "codemirror_mode": {
    "name": "ipython",
    "version": 3
   },
   "file_extension": ".py",
   "mimetype": "text/x-python",
   "name": "python",
   "nbconvert_exporter": "python",
   "pygments_lexer": "ipython3",
   "version": "3.9.12"
  }
 },
 "nbformat": 4,
 "nbformat_minor": 5
}
