{
 "cells": [
  {
   "cell_type": "markdown",
   "id": "8605bca0",
   "metadata": {},
   "source": [
    "# **Introduction to qiskit**\n",
    "![Qiskit Logo](https://repository-images.githubusercontent.com/83821669/9207357a-cf9b-45ed-9974-0abc3df14b95)\n",
    "<!-- ![](https://qrisp.eu/_images/qiskit_logo.png) -->\n",
    "\n",
    "Qiskit is an open-source, Python-based, high-performance software stack for quantum computing, originally developed by IBM Research and first released in 2017. It provides tools for creating quantum programs and executing them on quantum computers or classical simulators.\\\n",
    "Qiskit is the world’s most popular software stack for quantum computing. Build circuits, leverage Qiskit functions, transpile with AI tools, and execute workloads in an optimized runtime environment.\n",
    "\n",
    "## Install miniconda\n",
    "##### Windows Command Prompt\n",
    "curl https://repo.anaconda.com/miniconda/Miniconda3-latest-Windows-x86_64.exe -o .\\miniconda.exe \\\n",
    "start /wait \"\" .\\miniconda.exe /S \\\n",
    "del .\\miniconda.exe\n",
    "\n",
    "##### macOS\n",
    "mkdir -p ~/miniconda3 \\\n",
    "curl https://repo.anaconda.com/miniconda/Miniconda3-latest-MacOSX-arm64.sh -o ~/miniconda3/miniconda.sh \\\n",
    "bash ~/miniconda3/miniconda.sh -b -u -p ~/miniconda3 \\\n",
    "rm ~/miniconda3/miniconda.sh \n",
    "\n",
    "##### Linux\n",
    "https://www.anaconda.com/docs/getting-started/miniconda/install#linux-2\n",
    "\n",
    "## Install and activate environment\n",
    "Download class.yml \\\n",
    "Open Anaconda prompt (windows) \\\n",
    "Open terminal (macOS and Linux)\n",
    "\n",
    "##### conda env create -f class.yml \n",
    "\n",
    "## Install Visual Studio Code\n",
    "##### Windows\n",
    "https://code.visualstudio.com/download\n",
    "\n",
    "##### macOS & Linux\n",
    "/bin/bash -c \"$(curl -fsSL https://raw.githubusercontent.com/Homebrew/install/HEAD/install.sh)\"\n",
    "\n",
    "brew install --cask visual-studio-code"
   ]
  },
  {
   "cell_type": "code",
   "execution_count": null,
   "id": "4d4f3b50",
   "metadata": {},
   "outputs": [],
   "source": [
    "# Just to make sure that we are on same page, check qiskit version with the following command\n",
    "import qiskit\n",
    "print(qiskit.version.get_version_info())\n",
    "### Output should be >= 2.0.0"
   ]
  },
  {
   "cell_type": "markdown",
   "id": "c5b69a27",
   "metadata": {},
   "source": [
    "**\"import qiskit\"**\n",
    "\n",
    "import → Python keyword that tells the interpreter to load an external library (a package or module).\n",
    "\n",
    "qiskit → The main Python package for quantum computing. It provides tools to build, simulate, and run quantum circuits and algorithms on quantum computers or simulators.\n",
    "\n",
    "So this line loads the Qiskit library into your program so you can use its functions.\n",
    "\n",
    "**\"print(qiskit.version.get_version_info())\"**\n",
    "\n",
    "print(...) → A built-in Python function. \\\n",
    "It outputs whatever is inside the parentheses to the console or terminal.\n",
    "\n",
    "qiskit.version → The version submodule inside Qiskit. \\\n",
    "It contains information about the installed Qiskit version.\n",
    "\n",
    "get_version_info() → A function in qiskit.version. \\\n",
    "When called, it returns a dictionary containing version details of Qiskit and its components."
   ]
  },
  {
   "cell_type": "code",
   "execution_count": null,
   "id": "a31e3753",
   "metadata": {},
   "outputs": [],
   "source": [
    "# In order to make sure that all cells of code run properly throughout this lesson, \n",
    "# please run the following cell of code below:\n",
    "from qiskit import QuantumRegister , ClassicalRegister, QuantumCircuit\n",
    "from qiskit_aer import StatevectorSimulator, QasmSimulator\n",
    "from qiskit.visualization import visualize_transition\n",
    "import numpy as np\n",
    "import math as m\n",
    "# import warnings\n",
    "# warnings.filterwarnings('ignore')\n",
    "\n",
    "S_simulator = StatevectorSimulator()\n",
    "M_simulator = QasmSimulator()"
   ]
  },
  {
   "cell_type": "markdown",
   "id": "2b6f346d",
   "metadata": {},
   "source": [
    "**QuantumRegister** – this is a class that holds our qubits. When we go to perform gate operations on our system, we call on the QuantumRegister’s index locations, corresponding to the qubits we are interested in.\n",
    "\n",
    "**QuantumCircuit** – this is a class that can be thought of as our ”instructions” for the quantum system. As we want to design larger and more complex algorithms, we will store operations into QuantumCircuits, which we can then call upon by simulators to run them later.\n",
    "\n",
    "**Aer** – this is a class that handles using classical simulator backends. Since we will be doing all of our tutorials via classical simulations, we will be using this class regularly. The actual name for this class is AerProvider, but qiskit just lets us import and use it as Aer.\n",
    "\n",
    "**\"from qiskit import QuantumRegister , ClassicalRegister, QuantumCircuit\"**\n",
    "\n",
    "from qiskit import ... → This tells Python: “go into the qiskit library and bring out specific objects.”\n",
    "\n",
    "QuantumRegister → A container for qubits. Example: QuantumRegister(2) creates a register of 2 qubits.\n",
    "\n",
    "ClassicalRegister → A container for classical bits (used to store measurement results of qubits).\n",
    "\n",
    "QuantumCircuit → The main class that lets you build quantum circuits by adding gates, measurements, and registers.\n",
    "\n",
    "**\"from qiskit_aer import StatevectorSimulator, QasmSimulator\"**\n",
    "\n",
    "qiskit_aer → A package in Qiskit for fast simulation of quantum circuits.\n",
    "\n",
    "StatevectorSimulator → A simulator that represents the exact quantum statevector (amplitudes of basis states). It is deterministic (no randomness).\n",
    "\n",
    "QasmSimulator → A simulator that mimics a real quantum computer by sampling measurement outcomes according to quantum probabilities.\n",
    "\n",
    "**\"from qiskit.visualization import visualize_transition\"**\n",
    "\n",
    "qiskit.visualization → The module for plotting and visualizing quantum states/circuits.\n",
    "\n",
    "visualize_transition → A function that helps visualize how a quantum state changes when a gate is applied.\n",
    "\n",
    "\n",
    "**\"import numpy as np\"** → Loads the NumPy library (used for arrays, math, linear algebra) and gives it the shortcut name np. \\\n",
    "Example: np.array([1,2,3]) creates an array. \n",
    "\n",
    "\n",
    "**\"import math as m\"** → Loads Python’s built-in math library (for things like sin, cos, pi) and gives it a shortcut name m.\\\n",
    "Example: m.pi is π, m.sqrt(16) is 4. \n",
    "\n",
    "**\\# → Comment symbol (Python ignores this)**\n",
    "\n",
    "If uncommented, this would:\n",
    "\n",
    "import warnings → load Python’s warnings module.\n",
    "\n",
    "warnings.filterwarnings('ignore') → suppress warning messages (useful if Qiskit or NumPy prints too many warnings).\n",
    "\n",
    "**\"S_simulator = StatevectorSimulator()\"**\n",
    "Creates an instance (object) of the StatevectorSimulator.\n",
    "\n",
    "S_simulator is now your personal simulator for exact quantum states.\n",
    "\n",
    "**\"M_simulator = QasmSimulator()\"**\n",
    "Creates an instance (object) of the QasmSimulator.\n",
    "\n",
    "M_simulator is now your simulator for probabilistic measurements (like a real quantum computer).\n",
    "\n",
    "## **Qiskit Quantum Gates**\n",
    "List of commonly used single-qubit gates in Qiskit\n",
    "\n",
    "| Names | Example | Notes |\n",
    "|-------|---------|-------|\n",
    "| I, Identity | `qc.id(0)` or `qc.i(0)` | Applies I gate to qubit 0. |\n",
    "| H, Hadamard | `qc.h(0)` | Applies H gate to qubit 0. |\n",
    "| X | `qc.x(0)` | Applies X gate to qubit 0. |\n",
    "| Y | `qc.y([0,1,2])` | Applies Y gates to qubits 0, 1, and 2. |\n",
    "| Z | `qc.z(0)` | Applies Z gate to qubit 0. Equivalent to P gate with π phase rotation. |\n",
    "| P, Phase | `qc.p(math.pi/2,0)` | Applies P gate with π/2 phase rotation to qubit 0. |\n",
    "| S | `qc.s(0)` | Applies S gate to qubit 0. Equivalent to P gate with π/2 phase rotation. |\n",
    "| S† | `qc.sdg(0)` | Applies S† gate to qubit 0. Equivalent to P gate with 3π/2 phase rotation. |\n",
    "| SX | `qc.sx(0)` | Applies SX (square root of X) gate to qubit 0. Equivalent to RX gate with π/2 rotation. |\n",
    "| T | `qc.t(0)` | Applies T gate to qubit 0. Equivalent to P gate with π/4 phase rotation. |\n",
    "| T† | `qc.tdg(0)` | Applies T† gate to qubit 0. Equivalent to P gate with 7π/4 phase rotation. |\n",
    "| RX | `qc.rx(math.pi/4,0)` | Applies RX gate with π/4 rotation to qubit 0. |\n",
    "| RY | `qc.ry(math.pi/8,0)` | Applies RY gate with π/8 rotation to qubit 0. |\n",
    "| RZ | `qc.rz(math.pi/2,0)` | Applies RZ gate with π/2 rotation to qubit 0. |\n",
    "| U | `qc.u(math.pi/2,0,math.pi,5)` | Applies rotation with 3 Euler angles to qubit 5. |\n",
    "\n",
    "### Identity(I)\n",
    "\n",
    "![image.png](data:image/png;base64,iVBORw0KGgoAAAANSUhEUgAAAEEAAAA4CAYAAACi2pVMAAAABHNCSVQICAgIfAhkiAAAAzpJREFUaEPtWs9LakEUPj4fhIQWriQN3ArWVly1yYWbIBdCG6E/oI07N+LCRSDUshSjpRsD9+mfELRrpaCStgjFn6WSdmeky/M1duc6M+Z7zQFRz5w595xvzpm5flfDRBH44fLrh+eP05cgSBCmfSArQVaCrAT1TJDtINtBtoNsBxUB5cPvP78s+vn+/h6urq7U6T6fDw4ODhZ1pzkvkUhApVJR7U5PT2F9fV1z3jwDLiAUi0UYjUZwfHyMr7O1tTXvelz0fr8fer0e9nVycgKvr6/fDwIKZnt7GzweD5cktZy43W7VZGNjQ8tcc1z4EdlsNiEcDsPLy4tmMH8bPD8/QzqdhkwmA8lkEq+4CBEKwtnZGeRyOTg/P4fhcKgr/re3NwgGgxAIBODo6Ai8Xq/abrocURgLBQFVQCgUogjjs0mhUIDNzU2wWq14cHd3F+7u7qBWq302ZtQIBYElttvbWxWADz8IlHw+z+KWOHdlQajX6592fIvFAk9PT8REWJQrC8JgMACDwTCTm9FoXGiD1QJoZUEwm83Q6XRm4m+1WoCqgbesLAg7OzvQ7XZn8m232+ByuXhjIJ5jHI/HOOiPd9oMDg8PoVQqqeaoPRAIe3t7tC6o7YRWwvX1NUQiEbzBxWIxSKVS1IE5nU58j3BxcYE3w2g0Cui+w2QyUfugNkTPHVglm81O4vE4qxvi/Gq1OlGOy0mj0SCO7+/vT5Q7S+IYrZLLDyhqxBcwdDgcgF4iRWg7iAycp28JgoKmBEGCMG0qWQmiK4EHKcJCytBunsIqgQcpwkLK0AKA7ISBwIMUYSFlVgKEZZIiehIm2QqrhGWSIqTE9OiEgbBMUkRPwiRbYSAskxQhJaZHJwyEZZIiehIm2QoDgRcpsigpQ0p2nk4YCDxIERZSZl7CRD0t8fCV3VekihYp8pVfmrF/glRZBilCXF0dSmHtoCOGbzeVIChLwI1jfHx8xA9MkdhsNrDb7cJW+OHhAfr9PvaPaHhW4QICOgnQP1UuLy9xPOifJIguFyU3NzdQLpexe/S0em1tjelSBrQDM3n4DybLPUFZRAmCBGHay7ISZCXISlDPNdkOsh2mxfAO2I0OQa0O8OQAAAAASUVORK5CYII=)\n",
    "\n",
    "The effect of this gate renders the qubit’s state unchanged."
   ]
  },
  {
   "cell_type": "code",
   "execution_count": 1,
   "id": "944eada0",
   "metadata": {},
   "outputs": [],
   "source": [
    "import qiskit\n",
    "from qiskit import QuantumCircuit, QuantumRegister, ClassicalRegister"
   ]
  },
  {
   "cell_type": "code",
   "execution_count": 2,
   "id": "5f1b3b87",
   "metadata": {},
   "outputs": [
    {
     "data": {
      "text/html": [
       "<pre style=\"word-wrap: normal;white-space: pre;background: #fff0;line-height: 1.1;font-family: &quot;Courier New&quot;,Courier,monospace\">     \n",
       "  q: \n",
       "     \n",
       "c: 1/\n",
       "     </pre>"
      ],
      "text/plain": [
       "     \n",
       "  q: \n",
       "     \n",
       "c: 1/\n",
       "     "
      ]
     },
     "execution_count": 2,
     "metadata": {},
     "output_type": "execute_result"
    }
   ],
   "source": [
    "qreg_q = QuantumRegister(1,'q')\n",
    "creg_c = ClassicalRegister(1,'c')\n",
    "\n",
    "I_qc = QuantumCircuit(qreg_q,creg_c,name='qc')\n",
    "I_qc.draw()\n"
   ]
  },
  {
   "cell_type": "code",
   "execution_count": 3,
   "id": "64b36b99",
   "metadata": {},
   "outputs": [
    {
     "data": {
      "image/png": "[encoded data removed]",
      "text/plain": [
       "<Figure size 103.426x144.48 with 1 Axes>"
      ]
     },
     "execution_count": 3,
     "metadata": {},
     "output_type": "execute_result"
    }
   ],
   "source": [
    "I_qc.draw('mpl')"
   ]
  },
  {
   "cell_type": "code",
   "execution_count": 4,
   "id": "f9d770ff",
   "metadata": {},
   "outputs": [
    {
     "data": {
      "text/html": [
       "<pre style=\"word-wrap: normal;white-space: pre;background: #fff0;line-height: 1.1;font-family: &quot;Courier New&quot;,Courier,monospace\">     ┌───┐\n",
       "  q: ┤ I ├\n",
       "     └───┘\n",
       "c: 1/═════\n",
       "          </pre>"
      ],
      "text/plain": [
       "     ┌───┐\n",
       "  q: ┤ I ├\n",
       "     └───┘\n",
       "c: 1/═════\n",
       "          "
      ]
     },
     "execution_count": 4,
     "metadata": {},
     "output_type": "execute_result"
    }
   ],
   "source": [
    "I_qc.id(qreg_q[0])\n",
    "I_qc.draw()"
   ]
  },
  {
   "cell_type": "code",
   "execution_count": 5,
   "id": "edfc2c56",
   "metadata": {},
   "outputs": [
    {
     "data": {
      "image/png": "[encoded data removed]",
      "text/plain": [
       "<Figure size 133.526x144.48 with 1 Axes>"
      ]
     },
     "execution_count": 5,
     "metadata": {},
     "output_type": "execute_result"
    }
   ],
   "source": [
    "I_qc.draw('mpl')"
   ]
  },
  {
   "cell_type": "markdown",
   "id": "ccbbad6b",
   "metadata": {},
   "source": [
    "**\"qreg_q = QuantumRegister(1,'q')\"**\n",
    "\n",
    "qreg_q → A variable name chosen by you. It will store a quantum register.\n",
    "\n",
    "QuantumRegister(1, 'q') → Creates a quantum register with:\n",
    "\n",
    "1 → the number of qubits (just one qubit here).\n",
    "\n",
    "'q' → the label name of the register. The qubit will be referred to as q[0].\n",
    "\n",
    "So qreg_q now represents one qubit named q[0].\n",
    "\n",
    "**\"creg_c = ClassicalRegister(1,'c')\"**\n",
    "\n",
    "creg_c → Variable storing a classical register.\n",
    "\n",
    "ClassicalRegister(1, 'c') → Creates a classical register with:\n",
    "\n",
    "1 → the number of classical bits (just one).\n",
    "\n",
    "'c' → the label name of the register. The bit will be referred to as c[0].\n",
    "\n",
    "So creg_c now represents one classical bit named c[0].\n",
    "\n",
    "**\"I_qc = QuantumCircuit(qreg_q,creg_c,name='qc')\"**\n",
    "\n",
    "I_qc → A variable holding your quantum circuit.\n",
    "\n",
    "QuantumCircuit(...) → Creates a new circuit object.\n",
    "\n",
    "qreg_q → attaches the quantum register (your qubit).\n",
    "\n",
    "creg_c → attaches the classical register (your classical bit).\n",
    "\n",
    "name='qc' → gives the circuit the name qc.\n",
    "\n",
    "So I_qc is now a circuit with 1 qubit and 1 classical bit.\n",
    "\n",
    "**\"I_qc.draw()\"**\n",
    "\n",
    ".draw() → A method of QuantumCircuit that draws the circuit in ASCII art form (plain text, in the console).\n",
    "\n",
    "At this point the circuit has no gates yet, so it will just show the qubit and classical bit lines.\n",
    "\n",
    "**\"I_qc.id(qreg_q[0])\"**\n",
    "\n",
    ".id(...) → Adds the identity gate (I) to the circuit.\n",
    "\n",
    "Identity gate does nothing, but it’s useful for timing/alignment.\n",
    "\n",
    "qreg_q[0] → Refers to the first qubit in the register (since you only have 1, it’s qubit 0).\n",
    "\n",
    "So this line says: apply the identity gate on qubit 0.\n",
    "\n",
    "**\"I_qc.draw('mpl')\"**\n",
    "\n",
    "'mpl' → Tells Qiskit to use Matplotlib for drawing.\n",
    "\n",
    "This gives a nicer, graphical version of the circuit instead of ASCII text.\n",
    "\n",
    "The output will look like a small box labeled I applied to qubit q[0]."
   ]
  }
 ],
 "metadata": {
  "kernelspec": {
   "display_name": "qiskit-stable",
   "language": "python",
   "name": "python3"
  },
  "language_info": {
   "codemirror_mode": {
    "name": "ipython",
    "version": 3
   },
   "file_extension": ".py",
   "mimetype": "text/x-python",
   "name": "python",
   "nbconvert_exporter": "python",
   "pygments_lexer": "ipython3",
   "version": "3.9.12"
  }
 },
 "nbformat": 4,
 "nbformat_minor": 5
}
