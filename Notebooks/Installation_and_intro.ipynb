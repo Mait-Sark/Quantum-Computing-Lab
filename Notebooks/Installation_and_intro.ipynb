{
 "cells": [
  {
   "cell_type": "markdown",
   "id": "8605bca0",
   "metadata": {},
   "source": [
    "# **Introduction to qiskit**\n",
    "\n",
    "## Install miniconda\n",
    "##### Windows Command Prompt\n",
    "curl https://repo.anaconda.com/miniconda/Miniconda3-latest-Windows-x86_64.exe -o .\\miniconda.exe \\\n",
    "start /wait \"\" .\\miniconda.exe /S \\\n",
    "del .\\miniconda.exe\n",
    "\n",
    "##### macOS\n",
    "mkdir -p ~/miniconda3 \\\n",
    "curl https://repo.anaconda.com/miniconda/Miniconda3-latest-MacOSX-arm64.sh -o ~/miniconda3/miniconda.sh \\\n",
    "bash ~/miniconda3/miniconda.sh -b -u -p ~/miniconda3 \\\n",
    "rm ~/miniconda3/miniconda.sh \n",
    "\n",
    "##### Linux\n",
    "https://www.anaconda.com/docs/getting-started/miniconda/install#linux-2\n",
    "\n",
    "## Install and activate environment\n",
    "Download class.yml from \\\n",
    "Open Anaconda prompt (windows)\n",
    "Open terminal (macOS and Linux)\n",
    "\n",
    "conda env create -f class.yml \n",
    "\n",
    "## Install Visual Studio Code\n",
    "##### Windows\n",
    "https://code.visualstudio.com/download\n",
    "\n",
    "##### macOS & Linux\n",
    "/bin/bash -c \"$(curl -fsSL https://raw.githubusercontent.com/Homebrew/install/HEAD/install.sh)\"\n",
    "\n",
    "brew install --cask visual-studio-code\n",
    "\n",
    "\n",
    "***\n",
    "Just to make sure that we are on same page, check qiskit version with the following command\n"
   ]
  },
  {
   "cell_type": "code",
   "execution_count": null,
   "id": "4d4f3b50",
   "metadata": {},
   "outputs": [],
   "source": []
  }
 ],
 "metadata": {
  "language_info": {
   "name": "python"
  }
 },
 "nbformat": 4,
 "nbformat_minor": 5
}
