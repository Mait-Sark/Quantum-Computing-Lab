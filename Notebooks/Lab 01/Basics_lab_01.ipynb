{
 "cells": [
  {
   "cell_type": "code",
   "execution_count": null,
   "id": "6ddd9990",
   "metadata": {},
   "outputs": [],
   "source": [
    "from qiskit import QuantumCircuit\n",
    "import numpy as np\n",
    "import matplotlib.pyplot as plt\n",
    "from qiskit.quantum_info import *\n",
    "# from qiskit.quantum_info import Statevector"
   ]
  },
  {
   "cell_type": "code",
   "execution_count": null,
   "id": "86cdb37a",
   "metadata": {},
   "outputs": [],
   "source": [
    "qc = QuantumCircuit(2)\n",
    "# qc.h(0)\n",
    "# qc.measure(0, 0)\n"
   ]
  },
  {
   "cell_type": "code",
   "execution_count": null,
   "id": "53f9cb54",
   "metadata": {},
   "outputs": [],
   "source": [
    "\n",
    "Statevector(qc)\n",
    "DensityMatrix(qc)"
   ]
  },
  {
   "cell_type": "markdown",
   "id": "b3541258",
   "metadata": {},
   "source": [
    "Lets create a superposition state"
   ]
  },
  {
   "cell_type": "code",
   "execution_count": null,
   "id": "713f1a4d",
   "metadata": {},
   "outputs": [],
   "source": [
    "qc = QuantumCircuit(1)\n",
    "qc.h(0)\n",
    "# qc.measure(0, 0)"
   ]
  },
  {
   "cell_type": "markdown",
   "id": "803c3d71",
   "metadata": {},
   "source": [
    "Visulaize circuit "
   ]
  },
  {
   "cell_type": "code",
   "execution_count": null,
   "id": "c913929e",
   "metadata": {},
   "outputs": [],
   "source": [
    "qc.draw('mpl')"
   ]
  },
  {
   "cell_type": "code",
   "execution_count": null,
   "id": "f80ee495",
   "metadata": {},
   "outputs": [],
   "source": [
    "Statevector(qc)\n",
    "# DensityMatrix(qc)"
   ]
  },
  {
   "cell_type": "markdown",
   "id": "baa7d77b",
   "metadata": {},
   "source": [
    "Running circuit and getting counts "
   ]
  },
  {
   "cell_type": "code",
   "execution_count": null,
   "id": "ae07374a",
   "metadata": {},
   "outputs": [],
   "source": [
    "qc = QuantumCircuit(1,1)\n",
    "qc.h(0)\n",
    "qc.measure(0, 0)\n",
    "qc.draw('mpl')"
   ]
  },
  {
   "cell_type": "code",
   "execution_count": null,
   "id": "178b43d4",
   "metadata": {},
   "outputs": [],
   "source": []
  },
  {
   "cell_type": "markdown",
   "id": "cd947d4b",
   "metadata": {},
   "source": [
    "Using Run"
   ]
  },
  {
   "cell_type": "code",
   "execution_count": null,
   "id": "751acbe5",
   "metadata": {},
   "outputs": [],
   "source": [
    "from qiskit import QuantumRegister , ClassicalRegister , QuantumCircuit\n",
    "from qiskit_aer import StatevectorSimulator, QasmSimulator, AerSimulator\n",
    "from qiskit.visualization import plot_histogram\n",
    "\n",
    "qreg_q = QuantumRegister(1,'q')\n",
    "creg_c = ClassicalRegister(1,'c')\n",
    "\n",
    "qc = QuantumCircuit(qreg_q,creg_c)\n",
    "\n",
    "qc.h(qreg_q[0])\n",
    "qc.measure(qreg_q,creg_c)\n",
    "\n",
    "# M_simulator = QasmSimulator()\n",
    "\n",
    "# M_simulator = StatevectorSimulator()\n",
    "M_simulator = AerSimulator()\n",
    "\n",
    "job = M_simulator.run(qc,shots=1024)\n",
    "result = job.result()\n",
    "result.get_counts(qc)"
   ]
  },
  {
   "cell_type": "code",
   "execution_count": null,
   "id": "a15aff3c",
   "metadata": {},
   "outputs": [],
   "source": [
    "plot_histogram(result.get_counts(qc))"
   ]
  },
  {
   "cell_type": "markdown",
   "id": "409aa8cd",
   "metadata": {},
   "source": [
    "Running on Hardware and transpilation "
   ]
  },
  {
   "cell_type": "code",
   "execution_count": null,
   "id": "533aa13a",
   "metadata": {},
   "outputs": [],
   "source": [
    "from qiskit import QuantumCircuit, transpile\n",
    "from qiskit.providers.fake_provider import GenericBackendV2\n",
    "from qiskit.visualization import plot_histogram\n",
    " \n",
    "# Generate a 5-qubit simulated backend\n",
    "backend = GenericBackendV2(num_qubits=5)\n",
    " \n",
    "# Create a simple circuit\n",
    "circuit = QuantumCircuit(1)\n",
    "circuit.h(0)\n",
    "circuit.measure_all()\n",
    "circuit.draw('mpl')\n",
    " \n",
    "# Transpile the ideal circuit to a circuit that can be directly executed by the backend\n",
    "transpiled_circuit = transpile(circuit, backend)\n",
    "transpiled_circuit.draw('mpl')\n",
    " \n",
    "# Run the transpiled circuit using the simulated backend\n",
    "job = backend.run(transpiled_circuit)\n",
    "counts = job.result().get_counts()\n",
    "plot_histogram(counts)"
   ]
  },
  {
   "cell_type": "code",
   "execution_count": null,
   "id": "fbaa6bc5",
   "metadata": {},
   "outputs": [],
   "source": []
  },
  {
   "cell_type": "markdown",
   "id": "90e3275c",
   "metadata": {},
   "source": [
    "Using Sampler"
   ]
  },
  {
   "cell_type": "code",
   "execution_count": null,
   "id": "5a28d0b5",
   "metadata": {},
   "outputs": [],
   "source": [
    "from qiskit_aer import AerSimulator\n",
    "from qiskit_ibm_runtime import QiskitRuntimeService, SamplerV2 as Sampler\n",
    "\n",
    "from qiskit_aer import StatevectorSimulator, QasmSimulator\n",
    "# from qiskit_aer.primitives import EstimatorV2 as Estimator\n",
    "from qiskit.transpiler.preset_passmanagers import generate_preset_pass_manager\n",
    "from qiskit.quantum_info import Pauli\n",
    "from qiskit.visualization import plot_histogram\n",
    "\n",
    "\n",
    "# simulator backend\n",
    "# backend = StatevectorSimulator()\n",
    "# backend = QasmSimulator()\n",
    "backend = AerSimulator()\n",
    "\n",
    "\n",
    "# Quantum circuit to make a  state\n",
    "bell = QuantumCircuit(1,1)\n",
    "bell.h(0)\n",
    "# bell.cx(0, 1)\n",
    "bell.measure_all()\n",
    " \n",
    "pm = generate_preset_pass_manager(backend=backend, optimization_level=1)\n",
    "isa_circuit = pm.run(bell)\n",
    " \n",
    "# execute the quantum circuit\n",
    "# sampler = AerSimulator()\n",
    "sampler = Sampler(backend)\n",
    "job = sampler.run([isa_circuit])\n",
    "result = job.result()\n",
    " \n",
    "print(result)"
   ]
  },
  {
   "cell_type": "code",
   "execution_count": null,
   "id": "785e211d",
   "metadata": {},
   "outputs": [],
   "source": [
    "plot_histogram(result[0].data.meas.get_counts())"
   ]
  },
  {
   "cell_type": "code",
   "execution_count": null,
   "id": "1a0e1df6",
   "metadata": {},
   "outputs": [],
   "source": [
    "# Execute two-qubit Bell state again\n",
    "sampler.options.default_shots = 1000\n",
    " \n",
    "job = sampler.run([isa_circuit])\n",
    "second_result = job.result()\n",
    "job3 = sampler.run([isa_circuit])\n",
    "third_result = job3.result()\n",
    " \n",
    "# Plot results with custom options\n",
    "plot_histogram(\n",
    "    [\n",
    "        result[0].data.meas.get_counts(),\n",
    "        second_result[0].data.meas.get_counts(),\n",
    "        third_result[0].data.meas.get_counts()\n",
    "    ],\n",
    "    legend=[\"first\", \"second\", \"third\"],\n",
    "    sort=\"desc\",\n",
    "    figsize=(15, 12),\n",
    "    color=[\"orange\", \"black\", \"blue\"],\n",
    "    bar_labels=False,\n",
    ")"
   ]
  },
  {
   "cell_type": "code",
   "execution_count": null,
   "id": "706233fb",
   "metadata": {},
   "outputs": [],
   "source": []
  },
  {
   "cell_type": "markdown",
   "id": "c457fa8e",
   "metadata": {},
   "source": [
    "Using Estimators"
   ]
  },
  {
   "cell_type": "code",
   "execution_count": null,
   "id": "ecde6c58",
   "metadata": {},
   "outputs": [],
   "source": [
    "import numpy as np\n",
    "from qiskit import QuantumCircuit\n",
    "from qiskit.quantum_info import SparsePauliOp\n",
    "from qiskit_ibm_runtime import EstimatorV2 as Estimator\n",
    "from qiskit.transpiler import generate_preset_pass_manager\n",
    "from matplotlib import pyplot as plt\n",
    " \n",
    "# Simple estimation experiment to create results\n",
    "qc = QuantumCircuit(2)\n",
    "qc.h(0)\n",
    "qc.h(1)\n",
    "# qc.crx(1.5, 0, 1)\n",
    " \n",
    "observables_labels = [\"ZZ\", \"XX\", \"YZ\", \"ZY\", \"XY\", \"XZ\", \"ZX\"]\n",
    "observables = [SparsePauliOp(label) for label in observables_labels]\n",
    " \n",
    "# service = QiskitRuntimeService()\n",
    "backend = AerSimulator()\n",
    " \n",
    "pm = generate_preset_pass_manager(backend=backend, optimization_level=3)\n",
    "isa_circuit = pm.run(qc)\n",
    "isa_observables = [\n",
    "    operator.apply_layout(isa_circuit.layout) for operator in observables\n",
    "]\n",
    " \n",
    "# Reshape observable array for broadcasting\n",
    "reshaped_ops = np.fromiter(isa_observables, dtype=object)\n",
    "reshaped_ops = reshaped_ops.reshape((7, 1))\n",
    " \n",
    "estimator = Estimator(backend)\n",
    "job = estimator.run([(isa_circuit, reshaped_ops)])\n",
    "result = job.result()[0]\n",
    "exp_val = job.result()[0].data.evs\n",
    "print(result)\n",
    " \n",
    "# Since the result array is structured as a 2D array where each element is a\n",
    "# list containing a single value, you need to flatten the array.\n",
    " \n",
    "# Plot using Matplotlib\n",
    "plt.bar(observables_labels, exp_val.flatten())"
   ]
  },
  {
   "cell_type": "code",
   "execution_count": null,
   "id": "ece27cef",
   "metadata": {},
   "outputs": [],
   "source": [
    "standard_error = job.result()[0].data.stds\n",
    " \n",
    "_, ax = plt.subplots()\n",
    "ax.bar(\n",
    "    observables_labels,\n",
    "    exp_val.flatten(),\n",
    "    yerr=standard_error.flatten(),\n",
    "    capsize=2,\n",
    ")\n",
    "ax.set_title(\"Expectation values (with standard errors)\")"
   ]
  },
  {
   "cell_type": "code",
   "execution_count": null,
   "id": "89a64cee",
   "metadata": {},
   "outputs": [],
   "source": []
  },
  {
   "cell_type": "code",
   "execution_count": null,
   "id": "612b81b2",
   "metadata": {},
   "outputs": [],
   "source": [
    "from qiskit_aer import AerSimulator\n",
    "from qiskit_ibm_runtime import QiskitRuntimeService, SamplerV2 as Sampler\n",
    "\n",
    "from qiskit_aer import StatevectorSimulator, QasmSimulator\n",
    "# from qiskit_aer.primitives import EstimatorV2 as Estimator\n",
    "from qiskit.transpiler.preset_passmanagers import generate_preset_pass_manager\n",
    "from qiskit.quantum_info import Pauli\n",
    "from qiskit.visualization import plot_histogram\n",
    "\n",
    "\n",
    "# simulator backend\n",
    "# backend = StatevectorSimulator()\n",
    "# backend = QasmSimulator()\n",
    "backend = AerSimulator()\n",
    "\n",
    "\n",
    "# Quantum circuit to make a  state\n",
    "qc1 = QuantumCircuit(3,3)\n",
    "qc1.h(1)\n",
    "qc1.cx(1,0)\n",
    "#your code\n",
    "\n",
    "\n",
    "\n",
    "#your code\n",
    "\n",
    "qc1.measure_all()\n",
    "qc1.draw('mpl')\n",
    " \n",
    "pm = generate_preset_pass_manager(backend=backend, optimization_level=3)\n",
    "isa_circuit = pm.run(qc1)\n",
    "\n",
    "# execute the quantum circuit\n",
    "# sampler = AerSimulator()\n",
    "sampler = Sampler(backend)\n",
    "job = sampler.run([isa_circuit])\n",
    "result = job.result()\n",
    " \n",
    "print(result)\n",
    "plot_histogram(result[0].data.meas.get_counts())"
   ]
  },
  {
   "cell_type": "markdown",
   "id": "351d718d",
   "metadata": {},
   "source": [
    "# Q1: create a circuit whose resulting state is product state of bell state and single qubit state (Use atleast one toffoli gate). The obtained output counts will be your results, i.e. 000 = 1024. Is there any difference between theoretical and experimentally estimated results ? "
   ]
  },
  {
   "cell_type": "code",
   "execution_count": null,
   "id": "3bdb4c1d",
   "metadata": {},
   "outputs": [],
   "source": [
    "from qiskit_aer import AerSimulator\n",
    "from qiskit_ibm_runtime import QiskitRuntimeService, SamplerV2 as Sampler\n",
    "from qiskit_aer import StatevectorSimulator, QasmSimulator\n",
    "from qiskit.transpiler.preset_passmanagers import generate_preset_pass_manager\n",
    "from qiskit.quantum_info import Pauli\n",
    "from qiskit.visualization import plot_histogram\n",
    "\n",
    "\n",
    "# simulator backend\n",
    "# backend = StatevectorSimulator()\n",
    "# backend = QasmSimulator()\n",
    "backend = AerSimulator()\n",
    "\n",
    "\n",
    "# Quantum circuit to make a  state\n",
    "qc1 = QuantumCircuit(3,3)\n",
    "qc1.h(1)\n",
    "qc1.cx(1,0)\n",
    "#your code\n",
    "\n",
    "\n",
    "\n",
    "\n",
    "#your code\n",
    "\n",
    "qc1.measure_all()\n",
    "qc1.draw('mpl')\n",
    " \n",
    "pm = generate_preset_pass_manager(backend=backend, optimization_level=3)\n",
    "isa_circuit = pm.run(qc1)\n",
    "\n",
    "# execute the quantum circuit\n",
    "# sampler = AerSimulator()\n",
    "sampler = Sampler(backend)\n",
    "job = sampler.run([isa_circuit])\n",
    "result = job.result()\n",
    " \n",
    "print(result)\n",
    "plot_histogram(result[0].data.meas.get_counts())"
   ]
  },
  {
   "cell_type": "markdown",
   "id": "326f721f",
   "metadata": {},
   "source": [
    "# construct a swap gate and confirm your swap action\n"
   ]
  },
  {
   "cell_type": "code",
   "execution_count": null,
   "id": "d306087f",
   "metadata": {},
   "outputs": [],
   "source": []
  },
  {
   "cell_type": "markdown",
   "id": "7b704f19",
   "metadata": {},
   "source": [
    "# confirm your swap action "
   ]
  },
  {
   "cell_type": "code",
   "execution_count": null,
   "id": "3ba1ccdb",
   "metadata": {},
   "outputs": [],
   "source": [
    "# Quantum circuit to make a  state\n",
    "qc1 = QuantumCircuit(2,2)\n",
    "\n",
    "# varying initial states\n",
    "# # qc1.x(0)\n",
    "# qc1.x(1)\n",
    "\n",
    "#---your code\n",
    "\n",
    "\n",
    "\n",
    "#-- --------\n",
    "\n",
    "Statevector(qc1)"
   ]
  },
  {
   "cell_type": "code",
   "execution_count": null,
   "id": "9aa371bf",
   "metadata": {},
   "outputs": [],
   "source": [
    "qc1 = QuantumCircuit(2,2)\n",
    "\n",
    "# varying initial states\n",
    "# qc1.x(0)\n",
    "# qc1.x(1)\n",
    "Statevector(qc1)"
   ]
  },
  {
   "cell_type": "markdown",
   "id": "8953d4d1",
   "metadata": {},
   "source": [
    "# Q 2"
   ]
  },
  {
   "cell_type": "code",
   "execution_count": null,
   "id": "b692fbfd",
   "metadata": {},
   "outputs": [],
   "source": [
    "\n",
    "import numpy as np\n",
    "from qiskit import QuantumCircuit\n",
    "from qiskit.quantum_info import SparsePauliOp\n",
    "from qiskit_ibm_runtime import EstimatorV2 as Estimator\n",
    "from qiskit.transpiler import generate_preset_pass_manager\n",
    "from qiskit_aer import AerSimulator\n",
    "from qiskit.quantum_info import Pauli\n",
    "from qiskit.visualization import plot_histogram\n",
    "from matplotlib import pyplot as plt\n",
    "\n",
    "\n",
    "# simulator backend\n",
    "# backend = StatevectorSimulator()\n",
    "# backend = QasmSimulator()\n",
    "backend = AerSimulator()\n",
    "\n",
    "\n",
    "# Quantum circuit to make a  state\n",
    "qc1 = QuantumCircuit(2,2)\n",
    "\n",
    "#your code\n",
    "\n",
    "\n",
    "\n",
    "#your code\n",
    "\n",
    "# qc1.measure_all()\n",
    "qc1.draw('mpl')\n",
    " \n",
    "# pm = generate_preset_pass_manager(backend=backend, optimization_level=3)\n",
    "# isa_circuit = pm.run(qc1)\n",
    "\n",
    "# # execute the quantum circuit\n",
    "# # sampler = AerSimulator()\n",
    "# sampler = Sampler(backend)\n",
    "# job = sampler.run([isa_circuit])\n",
    "# result = job.result()\n",
    " \n",
    "# print(result)\n",
    "# plot_histogram(result[0].data.meas.get_counts())\n",
    "\n",
    "\n",
    "observables_labels = [\"ZZ\", \"XX\"]\n",
    "observables = [SparsePauliOp(label) for label in observables_labels]\n",
    " \n",
    "# service = QiskitRuntimeService()\n",
    "backend = AerSimulator()\n",
    " \n",
    "pm = generate_preset_pass_manager(backend=backend, optimization_level=3)\n",
    "isa_circuit = pm.run(qc1)\n",
    "isa_observables = [\n",
    "    operator.apply_layout(isa_circuit.layout) for operator in observables\n",
    "]\n",
    " \n",
    "# Reshape observable array for broadcasting\n",
    "reshaped_ops = np.fromiter(isa_observables, dtype=object)\n",
    "reshaped_ops = reshaped_ops.reshape((2, 1))\n",
    " \n",
    "estimator = Estimator(backend)\n",
    "job = estimator.run([(isa_circuit, reshaped_ops)])\n",
    "result = job.result()[0]\n",
    "exp_val = job.result()[0].data.evs\n",
    "print(result)\n",
    " \n",
    "# Since the result array is structured as a 2D array where each element is a\n",
    "# list containing a single value, you need to flatten the array.\n",
    " \n",
    "# Plot using Matplotlib\n",
    "plt.bar(observables_labels, exp_val.flatten())"
   ]
  },
  {
   "cell_type": "code",
   "execution_count": null,
   "id": "6ca1c1ca",
   "metadata": {},
   "outputs": [],
   "source": []
  },
  {
   "cell_type": "code",
   "execution_count": null,
   "id": "178e3cbc",
   "metadata": {},
   "outputs": [],
   "source": [
    "# from qiskit import QuantumRegister , ClassicalRegister , QuantumCircuit\n",
    "# from qiskit_aer import StatevectorSimulator, QasmSimulator, AerSimulator\n",
    "# from qiskit.visualization import plot_histogram\n",
    "\n",
    "\n",
    "\n",
    "# qc1 = QuantumCircuit(3,3)\n",
    "# qc1.h(1)\n",
    "# qc1.cx(1,0)\n",
    "# #your code\n",
    "\n",
    "\n",
    "\n",
    "# #your code\n",
    "\n",
    "\n",
    "# qc1.measure([0,1,2],[0,1,2])\n",
    "# qc1.draw('mpl')\n",
    "\n",
    "# M_simulator = AerSimulator()\n",
    "\n",
    "# job = M_simulator.run(qc1,shots=1024)\n",
    "# result = job.result()\n",
    "# result.get_counts(qc1)\n",
    "# plot_histogram(result.get_counts(qc1))"
   ]
  },
  {
   "cell_type": "markdown",
   "id": "5f8afddb",
   "metadata": {},
   "source": [
    "# Answers questions based on your results in google form\n",
    "\n",
    "https://forms.gle/L4q2pmtHSbHpa3i16\n",
    "\n"
   ]
  },
  {
   "cell_type": "markdown",
   "id": "dbdf386d",
   "metadata": {},
   "source": [
    "To ponder over: can you create a gate which gives you action of 4 qubit gate whose 3 qubits are control and 1 qubit is target ? Try to construct such a gate using toffoli gate also utilise ancilla qubits if necessary"
   ]
  },
  {
   "cell_type": "code",
   "execution_count": null,
   "id": "81f608d2",
   "metadata": {},
   "outputs": [],
   "source": []
  }
 ],
 "metadata": {
  "kernelspec": {
   "display_name": "qcl",
   "language": "python",
   "name": "python3"
  },
  "language_info": {
   "codemirror_mode": {
    "name": "ipython",
    "version": 3
   },
   "file_extension": ".py",
   "mimetype": "text/x-python",
   "name": "python",
   "nbconvert_exporter": "python",
   "pygments_lexer": "ipython3",
   "version": "3.12.11"
  }
 },
 "nbformat": 4,
 "nbformat_minor": 5
}
