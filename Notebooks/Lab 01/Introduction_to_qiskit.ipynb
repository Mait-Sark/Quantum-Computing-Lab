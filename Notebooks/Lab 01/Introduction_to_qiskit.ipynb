{
 "cells": [
  {
   "cell_type": "markdown",
   "metadata": {
    "id": "-Y75-gHh5wjW"
   },
   "source": [
    "# **Introduction to qiskit**\n",
    "***\n",
    "\n"
   ]
  },
  {
   "cell_type": "markdown",
   "metadata": {},
   "source": [
    "# about simulators \n",
    "\n",
    "https://qiskit.github.io/qiskit-aer/stubs/qiskit_aer.StatevectorSimulator.html\n",
    "\n",
    "https://qiskit.github.io/qiskit-aer/stubs/qiskit_aer.QasmSimulator.html\n",
    "\n",
    "https://qiskit.github.io/qiskit-aer/stubs/qiskit_aer.AerSimulator.html"
   ]
  },
  {
   "cell_type": "markdown",
   "metadata": {
    "id": "-_FDhTdy52He"
   },
   "source": [
    "## **Making a Measurement**"
   ]
  },
  {
   "cell_type": "code",
   "execution_count": 1,
   "metadata": {
    "colab": {
     "base_uri": "https://localhost:8080/"
    },
    "id": "NX-qQbYmkxcw",
    "outputId": "3df65784-2c06-4862-ee39-d7331c06bcd5"
   },
   "outputs": [
    {
     "data": {
      "text/plain": [
       "{'1': 498, '0': 526}"
      ]
     },
     "execution_count": 1,
     "metadata": {},
     "output_type": "execute_result"
    }
   ],
   "source": [
    "from qiskit import QuantumRegister , ClassicalRegister , QuantumCircuit\n",
    "from qiskit_aer import StatevectorSimulator, QasmSimulator\n",
    "qreg_q = QuantumRegister(1,'q')\n",
    "creg_c = ClassicalRegister(1,'c')\n",
    "\n",
    "qc = QuantumCircuit(qreg_q,creg_c)\n",
    "\n",
    "qc.h(qreg_q[0])\n",
    "qc.measure(qreg_q,creg_c)\n",
    "\n",
    "# Q_simulator = QasmSimulator()\n",
    "\n",
    "M_simulator = StatevectorSimulator()\n",
    "\n",
    "job = M_simulator.run(qc,shots=1024)\n",
    "result = job.result()\n",
    "result.get_counts(qc)"
   ]
  },
  {
   "cell_type": "markdown",
   "metadata": {
    "id": "5hew77pnlIKk"
   },
   "source": [
    "This code should look very similar to our earlier examples, but with a few key differences."
   ]
  },
  {
   "cell_type": "markdown",
   "metadata": {
    "id": "TfPe9SY3lVcZ"
   },
   "source": [
    "***\n",
    "qc.h(qreg_q[0])   \n",
    "qc.measure(qreg_q,creg_c)\n",
    "***"
   ]
  },
  {
   "cell_type": "markdown",
   "metadata": {
    "id": "dWY4O1JemLjv"
   },
   "source": [
    "In the first line, we initialize qubit 0 with a Hadamard gate, creating a system in the following state:\n",
    "\n",
    "\n",
    "$$1/\\sqrt{2} \\space (|0⟩ + |1⟩) $$"
   ]
  },
  {
   "cell_type": "markdown",
   "metadata": {
    "id": "UIMP577-oAtQ"
   },
   "source": [
    "So far nothing new. Then, in the next line we add our **measurement**, using the function measure. This function actually calls upon the class **Measure**, which handles adding the measurement instruction. measure takes two arguments, both the quantum and classical registers.\n",
    "\n",
    "Note that by using the measure function, we are adding an additional instruction to our QuantumCircuit. That is to say, we aren’t actually making a measurement with this line of code. Remember, a QuantumCircuit object is just a list of instructions, which aren’t actually carried out until we run it on some simulator. Speaking of backends, because we now have a measurement instruction, the backend that we need to call upon is:"
   ]
  },
  {
   "cell_type": "markdown",
   "metadata": {
    "id": "inG9vIdnoizj"
   },
   "source": [
    "***\n",
    "M_simulator = QasmSimulator()\n",
    "***"
   ]
  },
  {
   "cell_type": "markdown",
   "metadata": {
    "id": "i8ZwOHCArLN_"
   },
   "source": [
    "The last three lines of codel: \n",
    "\n",
    "***\n",
    "job = M_simulator.run(qc)   \n",
    "result = job.result()    \n",
    "result.get_counts(qc)\n",
    "***\n",
    "\n",
    "\n",
    "We are using \"run\" to run our simulation, on **M_simulator** because we are interesting in measurement results. This returns to us a job object, from which we extract our result."
   ]
  },
  {
   "cell_type": "markdown",
   "metadata": {
    "id": "_IPyXctbsLIf"
   },
   "source": [
    "Alright, now let’s talk about the interaction between the two registers, via measure. In Qiskit, if we pass the entire quantum and classical registers as arguments to measure, the function will by default make a total measurement on the system, and store each qubit’s measurement results to the corresponding index in the ClassicalRegister:"
   ]
  },
  {
   "cell_type": "code",
   "execution_count": 2,
   "metadata": {
    "colab": {
     "base_uri": "https://localhost:8080/"
    },
    "id": "866TPVYpkvKa",
    "outputId": "03bc40ca-192b-4d84-ffee-a5141fb68ed8"
   },
   "outputs": [
    {
     "data": {
      "text/plain": [
       "{'00': 29, '10': 21, '11': 28, '01': 22}"
      ]
     },
     "execution_count": 2,
     "metadata": {},
     "output_type": "execute_result"
    }
   ],
   "source": [
    "qreg_q = QuantumRegister(2,'q')\n",
    "creg_c = ClassicalRegister(2,'c')\n",
    "\n",
    "qc = QuantumCircuit(qreg_q,creg_c)\n",
    "\n",
    "qc.h(qreg_q[0])\n",
    "qc.h(qreg_q[1])\n",
    "qc.measure(qreg_q,creg_c)\n",
    "\n",
    "job = M_simulator.run(qc,shots=100)\n",
    "result = job.result()\n",
    "result.get_counts(qc)"
   ]
  },
  {
   "cell_type": "markdown",
   "metadata": {
    "id": "zlyzv7eOsa_n"
   },
   "source": [
    "If instead we want to only make a partial measurement, say on qubit 0 only, we can do so by specifying the quantum and classical indices:"
   ]
  },
  {
   "cell_type": "code",
   "execution_count": 3,
   "metadata": {
    "colab": {
     "base_uri": "https://localhost:8080/"
    },
    "id": "aPNMk_xnsY0V",
    "outputId": "5b01d685-91c6-43d3-af88-c6cffd48fad8"
   },
   "outputs": [
    {
     "data": {
      "text/plain": [
       "{'10': 1}"
      ]
     },
     "execution_count": 3,
     "metadata": {},
     "output_type": "execute_result"
    }
   ],
   "source": [
    "qreg_q = QuantumRegister(2,'q')\n",
    "creg_c = ClassicalRegister(2,'c')\n",
    "\n",
    "qc = QuantumCircuit(qreg_q,creg_c)\n",
    "\n",
    "qc.h(qreg_q[0])\n",
    "qc.h(qreg_q[1])\n",
    "qc.measure(qreg_q[0],creg_c[1])\n",
    "\n",
    "job = M_simulator.run(qc)\n",
    "result = job.result()\n",
    "result.get_counts(qc)"
   ]
  },
  {
   "cell_type": "markdown",
   "metadata": {
    "id": "XbTjSYeSAHpK"
   },
   "source": [
    "## **Observing Quantum Circuits**\n",
    "***"
   ]
  },
  {
   "cell_type": "markdown",
   "metadata": {
    "id": "LIqBIKXcEy9g"
   },
   "source": [
    "### **data**"
   ]
  },
  {
   "cell_type": "code",
   "execution_count": 4,
   "metadata": {
    "colab": {
     "base_uri": "https://localhost:8080/"
    },
    "id": "KwUZQ4oxD9j7",
    "outputId": "20af9700-c309-4b4b-e0e8-62891f4f37f9"
   },
   "outputs": [
    {
     "name": "stdout",
     "output_type": "stream",
     "text": [
      "Outfrom from data function:  [CircuitInstruction(operation=Instruction(name='h', num_qubits=1, num_clbits=0, params=[]), qubits=(<Qubit register=(2, \"q\"), index=0>,), clbits=()), CircuitInstruction(operation=Instruction(name='h', num_qubits=1, num_clbits=0, params=[]), qubits=(<Qubit register=(2, \"q\"), index=1>,), clbits=()), CircuitInstruction(operation=Instruction(name='measure', num_qubits=1, num_clbits=1, params=[]), qubits=(<Qubit register=(2, \"q\"), index=0>,), clbits=(<Clbit register=(2, \"c\"), index=0>,))]\n"
     ]
    }
   ],
   "source": [
    "qreg_q = QuantumRegister(2 ,name= 'q')\n",
    "creg_c = ClassicalRegister(2 ,name= 'c')\n",
    "\n",
    "qc = QuantumCircuit(qreg_q,creg_c)\n",
    "\n",
    "qc.h(qreg_q[0])\n",
    "qc.h(qreg_q[1])\n",
    "qc.measure(qreg_q[0],creg_c[0])\n",
    "\n",
    "print(\"Outfrom from data function: \" , qc.data)"
   ]
  },
  {
   "cell_type": "markdown",
   "metadata": {
    "id": "2ZAWOOhiE4PV"
   },
   "source": [
    "### **qregs**"
   ]
  },
  {
   "cell_type": "code",
   "execution_count": 5,
   "metadata": {
    "colab": {
     "base_uri": "https://localhost:8080/"
    },
    "id": "3cPg_D02EcWK",
    "outputId": "724428d2-ed92-44db-fa97-4a87840fcfb0"
   },
   "outputs": [
    {
     "name": "stdout",
     "output_type": "stream",
     "text": [
      "Outfrom from qregs function:  [QuantumRegister(2, 'q')]\n"
     ]
    }
   ],
   "source": [
    "qreg_q = QuantumRegister(2 ,name= 'q')\n",
    "creg_c = ClassicalRegister(2 ,name= 'c')\n",
    "\n",
    "qc = QuantumCircuit(qreg_q,creg_c)\n",
    "\n",
    "qc.h(qreg_q[0])\n",
    "qc.h(qreg_q[1])\n",
    "qc.measure(qreg_q[0],creg_c[0])\n",
    "\n",
    "print(\"Outfrom from qregs function: \" , qc.qregs)"
   ]
  },
  {
   "cell_type": "markdown",
   "metadata": {
    "id": "-RYkmEWHE9KB"
   },
   "source": [
    "### **cregs**"
   ]
  },
  {
   "cell_type": "code",
   "execution_count": 6,
   "metadata": {
    "colab": {
     "base_uri": "https://localhost:8080/"
    },
    "id": "8AaSLjl1Em_5",
    "outputId": "11e30424-84ff-4b31-bfe4-c663ce82ca81"
   },
   "outputs": [
    {
     "name": "stdout",
     "output_type": "stream",
     "text": [
      "Outfrom from cregs function:  [ClassicalRegister(2, 'c')]\n"
     ]
    }
   ],
   "source": [
    "qreg_q = QuantumRegister(2 ,name= 'q')\n",
    "creg_c = ClassicalRegister(2 ,name= 'c')\n",
    "\n",
    "qc = QuantumCircuit(qreg_q,creg_c)\n",
    "\n",
    "qc.h(qreg_q[0])\n",
    "qc.h(qreg_q[1])\n",
    "qc.measure(qreg_q[0],creg_c[0])\n",
    "\n",
    "print(\"Outfrom from cregs function: \" , qc.cregs)"
   ]
  },
  {
   "cell_type": "markdown",
   "metadata": {
    "id": "3zmx9YX-Dkgo"
   },
   "source": [
    "## **Sharing Registers**\n",
    "***"
   ]
  },
  {
   "cell_type": "markdown",
   "metadata": {
    "id": "CQRCaXsTY_oD"
   },
   "source": [
    "Now suppose we are working with an algorithm that utilizes multiple QuantumCircuits. Qiskit allows us to have QuantumCircuit objects interact in a variety of ways, so long as we are careful in defining which registers are a part of which circuits. For example, let’s start with two QuantumCircuits that have no interaction:"
   ]
  },
  {
   "cell_type": "code",
   "execution_count": 7,
   "metadata": {
    "colab": {
     "base_uri": "https://localhost:8080/"
    },
    "id": "s35eJzDXZH0B",
    "outputId": "91cc0c82-d768-4dd6-9e55-b06c1d179662"
   },
   "outputs": [
    {
     "data": {
      "text/plain": [
       "<qiskit.circuit.instructionset.InstructionSet at 0x11f8cec50>"
      ]
     },
     "execution_count": 7,
     "metadata": {},
     "output_type": "execute_result"
    }
   ],
   "source": [
    "qreg_q1 = QuantumRegister(1 ,name= 'q1')\n",
    "creg_c1 = ClassicalRegister(1 ,name= 'c1')\n",
    "qc1 = QuantumCircuit(qreg_q1,creg_c1)\n",
    "\n",
    "qreg_q2 = QuantumRegister(1 ,name= 'q2')\n",
    "creg_c2 = ClassicalRegister(1 ,name= 'c2')\n",
    "qc2 = QuantumCircuit(qreg_q2,creg_c2)\n",
    "\n",
    "qc1.h(qreg_q1[0])\n",
    "qc1.measure(qreg_q1[0], creg_c1[0])\n",
    "\n",
    "qc2.h(qreg_q2[0])"
   ]
  },
  {
   "cell_type": "markdown",
   "metadata": {
    "id": "S2krMmpnZXi4"
   },
   "source": [
    "Nothing too special here. Just two circuits defined parallel to each other. We could choose to pass either of them to a simulator, and their results would be completely independent.\n",
    "\n",
    "\n",
    "Now, there are a couple ways we can have our two QuantumCircuits interact. For example, we can take measurement results from one circuit (after running it on a simulator) and store them in the other’s ClassicalRegister, or have one circuit apply gate operations on the other’s qubits. BUT, in order to do these kinds of things, we must give each QuantumCircuit access to each other’s registers:"
   ]
  },
  {
   "cell_type": "code",
   "execution_count": 8,
   "metadata": {
    "colab": {
     "base_uri": "https://localhost:8080/"
    },
    "id": "5vap7XTaaADa",
    "outputId": "f7314e13-74be-4874-83bb-3c62626dcbfe"
   },
   "outputs": [
    {
     "data": {
      "text/plain": [
       "<qiskit.circuit.instructionset.InstructionSet at 0x11fafd3c0>"
      ]
     },
     "execution_count": 8,
     "metadata": {},
     "output_type": "execute_result"
    }
   ],
   "source": [
    "qreg_q1 = QuantumRegister(1 ,name= 'q1')\n",
    "creg_c1 = ClassicalRegister(1 ,name= 'c1')\n",
    "qc1 = QuantumCircuit(qreg_q1,creg_c1)\n",
    "\n",
    "qreg_q2 = QuantumRegister(1 ,name= 'q2')\n",
    "creg_c2 = ClassicalRegister(1 ,name= 'c2')\n",
    "qc2 = QuantumCircuit(qreg_q2,creg_c2)\n",
    "\n",
    "qc1.add_register(creg_c2)\n",
    "qc2.add_register(qreg_q1)\n",
    "\n",
    "qc1.h(qreg_q1[0])\n",
    "qc2.h(qreg_q2[0])\n",
    "qc1.measure(qreg_q1[0], creg_c2[0])\n",
    "\n",
    "qc2.h(qreg_q1[0])\n"
   ]
  },
  {
   "cell_type": "markdown",
   "metadata": {
    "id": "iVoqkRd6bDx4"
   },
   "source": [
    "Take a careful look at these two QuantumCircuits. In ’qc1’, we make sure to include the ClassicalRegister ’creg_2’, so that we can store our measurement result:\n",
    "\n",
    "***\n",
    "’measure qreg_q1[0] -> creg_c2[0]’\n",
    "***\n",
    "\n",
    "In ’qc2’, we do the same thing for the QuantumRegister ’qreg_q1’, so that we can apply a Hadamard gate:\n",
    "\n",
    "***\n",
    "’qc2.h(qreg_q1[0])’.\n",
    "***\n",
    "\n"
   ]
  },
  {
   "cell_type": "markdown",
   "metadata": {
    "id": "-K74EJe4JNpV"
   },
   "source": [
    "## **Combining QuantumCircuits**\n",
    "***"
   ]
  },
  {
   "cell_type": "code",
   "execution_count": 10,
   "metadata": {
    "colab": {
     "base_uri": "https://localhost:8080/"
    },
    "id": "M5LfYgpbW82G",
    "outputId": "a356ee59-04b2-46c3-9e13-7343e4d82ace"
   },
   "outputs": [
    {
     "data": {
      "image/png": "[encoded data removed]",
      "text/plain": [
       "<Figure size 389.338x284.278 with 1 Axes>"
      ]
     },
     "execution_count": 10,
     "metadata": {},
     "output_type": "execute_result"
    }
   ],
   "source": [
    "qreg_q1 = QuantumRegister(2 ,name= 'q1')\n",
    "creg_c1 = ClassicalRegister(2 ,name= 'c1')\n",
    "qc1 = QuantumCircuit(qreg_q1,creg_c1)\n",
    "\n",
    "qreg_q2 = QuantumRegister(2 ,name= 'q2')\n",
    "creg_c2 = ClassicalRegister(2 ,name= 'c2')\n",
    "qc2 = QuantumCircuit(qreg_q2,creg_c2)\n",
    "\n",
    "qc1.h(qreg_q1[0])\n",
    "qc1.h(qreg_q1[1])\n",
    "\n",
    "qc2.h(qreg_q2[0])\n",
    "qc2.h(qreg_q2[1])\n",
    "\n",
    "qc3 = qc2.compose(qc1)\n",
    "qc1 = qc3.compose(qc1)\n",
    "\n",
    "qc3.draw('mpl')\n",
    "qc1.draw('mpl')"
   ]
  },
  {
   "cell_type": "markdown",
   "metadata": {
    "id": "wZKM-sFGwkZ5"
   },
   "source": [
    "## **Multiple Qubit Gates**\n",
    "***\n",
    "List of commonly used multiple-qubit gates in Qiskit"
   ]
  },
  {
   "cell_type": "markdown",
   "metadata": {
    "id": "cKj3zXmZNfzj"
   },
   "source": [
    "| Names | Example | Notes |\n",
    "|-------|---------|-------|\n",
    "| CX, CNOT | `qc.cx(0,1)` or `qc.cnot(0,1)` | Applies the X gate to quantum wire 1, subject to the state of the control qubit on wire 0. |\n",
    "| Swap | `qc.swap(0,1)` | Swaps the qubit states of wires 0 and 1. |\n",
    "| CCX, Toffoli | `qc.ccx(0,1,2)` | Applies the X gate to quantum wire 2, subject to the state of the control qubits on wires 0 and 1. |\n",
    "| CSwap, Fredkin | `qc.cswap(0,2,3)` or `qc.fredkin(0,2,3)` | Swaps the qubit states of wires 2 and 3, subject to the state of the control qubit on wire 0. |\n",
    "| CH | `qc.ch(0,1)` | Applies the H gate to quantum wire 1, subject to the state of the control qubit on wire 0. |\n",
    "| CP, Control-Phase | `qc.cp(math.pi/4,0,1)` | Applies the phase gate to quantum wire 1, subject to the state of the control qubit on wire 0. |\n",
    "| CRX, Control-RX | `qc.crx(math.pi/2,2,3)` | Applies the RX gate to quantum wire 3, subject to the state of the control qubit on wire 2. |\n",
    "| CRY, Control-RY | `qc.cry(math.pi/8,2,3)` | Applies the RY gate to quantum wire 3, subject to the state of the control qubit on wire 2. |\n",
    "| CRZ | `qc.crz(math.pi/4,0,1)` | Applies the RZ gate to quantum wire 1, subject to the state of the control qubit on wire 0. |\n",
    "| CSX | `qc.csx(0,1)` | Applies the SX (square root of X) gate to quantum wire 1, subject to the state of the control qubit on wire 0. |\n",
    "| CU | `qc.cu(math.pi/2,0,math.pi,0,0,1)` | Applies the U gate with an additional global phase argument to quantum wire 1, subject to the state of the control qubit on wire 0. |\n",
    "| CY, Control-Y | `qc.cy(2,3)` | Applies the Y gate to quantum wire 3, subject to the state of the control qubit on wire 2. |\n",
    "| CZ, Control-Z | `qc.cz(1,2)` | Applies the Z gate to quantum wire 2, subject to the state of the control qubit on wire 1. |\n",
    "| DCX | `qc.dcx(2,3)` | Applies two CNOT gates whose control qubits are on wires 2 and 3. |\n",
    "| iSwap | `qc.iswap(0,1)` | Swaps the qubit states of wires 0 and 1, and changes the phase of the \\|01⟩ and \\|10⟩ amplitudes by *i*. |\n",
    "| MCP, Multi-control phase | `qc.mcp(math.pi/4, [0,1,2],3)` | Applies the phase gate to quantum wire 3, subject to the state of the control qubits on wires 0, 1, and 2. |\n",
    "| MCX, Multi-control X | `qc.mcx([0,1,2],3)` | Applies the X gate to quantum wire 3, subject to the state of the control qubits on wires 0, 1, and 2. |\n"
   ]
  },
  {
   "cell_type": "code",
   "execution_count": null,
   "metadata": {},
   "outputs": [],
   "source": []
  },
  {
   "cell_type": "code",
   "execution_count": 11,
   "metadata": {},
   "outputs": [
    {
     "data": {
      "text/plain": [
       "{'00': 531, '11': 493}"
      ]
     },
     "execution_count": 11,
     "metadata": {},
     "output_type": "execute_result"
    }
   ],
   "source": [
    "qc= QuantumCircuit(2,2)\n",
    "qc.h(0)\n",
    "qc.cx(0,1)\n",
    "# qc.measure_all()\n",
    "qc.measure([0,1],[0,1])\n",
    "# qc.draw('mpl')\n",
    "# M_simulator = QasmSimulator()\n",
    "Q_simulator = QasmSimulator()\n",
    "\n",
    "M_simulator = StatevectorSimulator()\n",
    "\n",
    "\n",
    "# job = Q_simulator.run(qc)\n",
    "job = M_simulator.run(qc, shots=1024)\n",
    "result = job.result()\n",
    "result.get_counts(qc)"
   ]
  },
  {
   "cell_type": "code",
   "execution_count": 12,
   "metadata": {},
   "outputs": [
    {
     "data": {
      "image/png": "[encoded data removed]",
      "text/plain": [
       "<Figure size 663.998x451.5 with 1 Axes>"
      ]
     },
     "execution_count": 12,
     "metadata": {},
     "output_type": "execute_result"
    }
   ],
   "source": [
    "qc= QuantumCircuit(3,3)\n",
    "qc.h(0)\n",
    "qc.ccx(0,1,2)\n",
    "# qc.measure([0,1,2],[0,1,2])\n",
    "qc.measure_all()\n",
    "qc.draw('mpl')"
   ]
  },
  {
   "cell_type": "markdown",
   "metadata": {},
   "source": []
  },
  {
   "cell_type": "markdown",
   "metadata": {},
   "source": []
  },
  {
   "cell_type": "markdown",
   "metadata": {},
   "source": []
  }
 ],
 "metadata": {
  "colab": {
   "collapsed_sections": [
    "LIqBIKXcEy9g",
    "2ZAWOOhiE4PV",
    "-RYkmEWHE9KB",
    "O06yNjS_sPS6",
    "w278BJn6uUya"
   ],
   "name": "Lab2_Part1.ipynb",
   "provenance": [],
   "toc_visible": true
  },
  "kernelspec": {
   "display_name": "qcl",
   "language": "python",
   "name": "python3"
  },
  "language_info": {
   "codemirror_mode": {
    "name": "ipython",
    "version": 3
   },
   "file_extension": ".py",
   "mimetype": "text/x-python",
   "name": "python",
   "nbconvert_exporter": "python",
   "pygments_lexer": "ipython3",
   "version": "3.12.11"
  }
 },
 "nbformat": 4,
 "nbformat_minor": 4
}
