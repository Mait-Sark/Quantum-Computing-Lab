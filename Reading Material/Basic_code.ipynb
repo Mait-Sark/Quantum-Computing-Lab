{
 "cells": [
  {
   "cell_type": "code",
   "execution_count": 1,
   "id": "a31e3753",
   "metadata": {},
   "outputs": [],
   "source": [
    "from qiskit import QuantumRegister , ClassicalRegister, QuantumCircuit\n",
    "from qiskit_aer import StatevectorSimulator, QasmSimulator\n",
    "from qiskit.visualization import visualize_transition\n",
    "import numpy as np\n",
    "import math as m\n",
    "# import warnings\n",
    "# warnings.filterwarnings('ignore')\n",
    "\n",
    "S_simulator = StatevectorSimulator()\n",
    "M_simulator = QasmSimulator()"
   ]
  },
  {
   "cell_type": "markdown",
   "id": "3572876b",
   "metadata": {},
   "source": [
    "**QuantumRegister** – this is a class that holds our qubits. When we go to perform gate operations on our system, we call on the QuantumRegister’s index locations, corresponding to the qubits we are interested in.\\\n",
    "**QuantumCircuit** – this is a class that can be thought of as our ”instructions” for the quantum system. As we want to design larger and more complex algorithms, we will store operations into QuantumCircuits, which we can then call upon by simulators to run them later.\\\n",
    "**Aer** – this is a class that handles using classical simulator backends. Since we will be doing all of our tutorials via classical simulations, we will be using this class regularly. The actual name for this class is AerProvider, but qiskit just lets us import and use it as Aer."
   ]
  },
  {
   "cell_type": "code",
   "execution_count": 2,
   "id": "754f3871",
   "metadata": {},
   "outputs": [],
   "source": [
    "from qiskit import QuantumRegister , ClassicalRegister, QuantumCircuit"
   ]
  },
  {
   "cell_type": "markdown",
   "id": "7effba4c",
   "metadata": {},
   "source": [
    "from qiskit import ... → This tells Python: “go into the qiskit library and bring out specific objects.”\\\n",
    "QuantumRegister → A container for qubits. Example: QuantumRegister(2) creates a register of 2 qubits.\\\n",
    "ClassicalRegister → A container for classical bits (used to store measurement results of qubits).\\\n",
    "QuantumCircuit → The main class that lets you build quantum circuits by adding gates, measurements, and registers."
   ]
  },
  {
   "cell_type": "code",
   "execution_count": 3,
   "id": "45acc110",
   "metadata": {},
   "outputs": [],
   "source": [
    "from qiskit_aer import StatevectorSimulator, QasmSimulator"
   ]
  },
  {
   "cell_type": "markdown",
   "id": "c07c3122",
   "metadata": {},
   "source": [
    "qiskit_aer → A package in Qiskit for fast simulation of quantum circuits.\\\n",
    "StatevectorSimulator → A simulator that represents the exact quantum statevector (amplitudes of basis states). It is deterministic (no randomness).\\\n",
    "QasmSimulator → A simulator that mimics a real quantum computer by sampling measurement outcomes according to quantum probabilities."
   ]
  },
  {
   "cell_type": "code",
   "execution_count": 4,
   "id": "f15c581e",
   "metadata": {},
   "outputs": [],
   "source": [
    "from qiskit.visualization import visualize_transition"
   ]
  },
  {
   "cell_type": "markdown",
   "id": "7a658859",
   "metadata": {},
   "source": [
    "qiskit.visualization → The module for plotting and visualizing quantum states/circuits.\\\n",
    "visualize_transition → A function that helps visualize how a quantum state changes when a gate is applied."
   ]
  },
  {
   "cell_type": "code",
   "execution_count": 5,
   "id": "819e76e0",
   "metadata": {},
   "outputs": [],
   "source": [
    "import numpy as np"
   ]
  },
  {
   "cell_type": "markdown",
   "id": "2511322f",
   "metadata": {},
   "source": [
    "Loads the NumPy library (used for arrays, math, linear algebra) and gives it the shortcut name np."
   ]
  },
  {
   "cell_type": "code",
   "execution_count": 6,
   "id": "d3091a69",
   "metadata": {},
   "outputs": [],
   "source": [
    "import math as m"
   ]
  },
  {
   "cell_type": "markdown",
   "id": "1f858932",
   "metadata": {},
   "source": [
    "Loads Python’s built-in math library (for things like sin, cos, pi) and gives it a shortcut name m."
   ]
  },
  {
   "cell_type": "code",
   "execution_count": 7,
   "id": "6f63cd56",
   "metadata": {},
   "outputs": [],
   "source": [
    "# import warnings"
   ]
  },
  {
   "cell_type": "markdown",
   "id": "cc17a90c",
   "metadata": {},
   "source": [
    "\\# → Comment symbol (Python ignores this). If uncommented, this would: load Python’s warnings module."
   ]
  },
  {
   "cell_type": "code",
   "execution_count": 8,
   "id": "6305c37b",
   "metadata": {},
   "outputs": [],
   "source": [
    "# warnings.filterwarnings('ignore')"
   ]
  },
  {
   "cell_type": "markdown",
   "id": "e82369fc",
   "metadata": {},
   "source": [
    "suppress warning messages (useful if Qiskit or NumPy prints too many warnings)."
   ]
  },
  {
   "cell_type": "code",
   "execution_count": 9,
   "id": "fcf6180d",
   "metadata": {},
   "outputs": [],
   "source": [
    "S_simulator = StatevectorSimulator()"
   ]
  },
  {
   "cell_type": "markdown",
   "id": "f4dab3c8",
   "metadata": {},
   "source": [
    "Creates an instance (object) of the StatevectorSimulator.\\\n",
    "S_simulator is now your personal simulator for exact quantum states."
   ]
  },
  {
   "cell_type": "code",
   "execution_count": 10,
   "id": "3a77d420",
   "metadata": {},
   "outputs": [],
   "source": [
    "M_simulator = QasmSimulator()"
   ]
  },
  {
   "cell_type": "markdown",
   "id": "e7d9ec12",
   "metadata": {},
   "source": [
    "Creates an instance (object) of the QasmSimulator.\\\n",
    "M_simulator is now your simulator for probabilistic measurements (like a real quantum computer).\n"
   ]
  },
  {
   "cell_type": "markdown",
   "id": "00ae59a7",
   "metadata": {},
   "source": [
    "\n",
    "### **Qiskit Quantum Gates**\n",
    "List of commonly used single-qubit gates in Qiskit\n",
    "\n",
    "| Names | Example | Notes |\n",
    "|-------|---------|-------|\n",
    "| I, Identity | `qc.id(0)` or `qc.i(0)` | Applies I gate to qubit 0. |\n",
    "| H, Hadamard | `qc.h(0)` | Applies H gate to qubit 0. |\n",
    "| X | `qc.x(0)` | Applies X gate to qubit 0. |\n",
    "| Y | `qc.y([0,1,2])` | Applies Y gates to qubits 0, 1, and 2. |\n",
    "| Z | `qc.z(0)` | Applies Z gate to qubit 0. Equivalent to P gate with π phase rotation. |\n",
    "| P, Phase | `qc.p(math.pi/2,0)` | Applies P gate with π/2 phase rotation to qubit 0. |\n",
    "| S | `qc.s(0)` | Applies S gate to qubit 0. Equivalent to P gate with π/2 phase rotation. |\n",
    "| S† | `qc.sdg(0)` | Applies S† gate to qubit 0. Equivalent to P gate with 3π/2 phase rotation. |\n",
    "| SX | `qc.sx(0)` | Applies SX (square root of X) gate to qubit 0. Equivalent to RX gate with π/2 rotation. |\n",
    "| T | `qc.t(0)` | Applies T gate to qubit 0. Equivalent to P gate with π/4 phase rotation. |\n",
    "| T† | `qc.tdg(0)` | Applies T† gate to qubit 0. Equivalent to P gate with 7π/4 phase rotation. |\n",
    "| RX | `qc.rx(math.pi/4,0)` | Applies RX gate with π/4 rotation to qubit 0. |\n",
    "| RY | `qc.ry(math.pi/8,0)` | Applies RY gate with π/8 rotation to qubit 0. |\n",
    "| RZ | `qc.rz(math.pi/2,0)` | Applies RZ gate with π/2 rotation to qubit 0. |\n",
    "| U | `qc.u(math.pi/2,0,math.pi,5)` | Applies rotation with 3 Euler angles to qubit 5. |\n",
    "\n",
    "### Identity(I)\n",
    "\n",
    "![image.png](data:image/png;base64,iVBORw0KGgoAAAANSUhEUgAAAEEAAAA4CAYAAACi2pVMAAAABHNCSVQICAgIfAhkiAAAAzpJREFUaEPtWs9LakEUPj4fhIQWriQN3ArWVly1yYWbIBdCG6E/oI07N+LCRSDUshSjpRsD9+mfELRrpaCStgjFn6WSdmeky/M1duc6M+Z7zQFRz5w595xvzpm5flfDRBH44fLrh+eP05cgSBCmfSArQVaCrAT1TJDtINtBtoNsBxUB5cPvP78s+vn+/h6urq7U6T6fDw4ODhZ1pzkvkUhApVJR7U5PT2F9fV1z3jwDLiAUi0UYjUZwfHyMr7O1tTXvelz0fr8fer0e9nVycgKvr6/fDwIKZnt7GzweD5cktZy43W7VZGNjQ8tcc1z4EdlsNiEcDsPLy4tmMH8bPD8/QzqdhkwmA8lkEq+4CBEKwtnZGeRyOTg/P4fhcKgr/re3NwgGgxAIBODo6Ai8Xq/abrocURgLBQFVQCgUogjjs0mhUIDNzU2wWq14cHd3F+7u7qBWq302ZtQIBYElttvbWxWADz8IlHw+z+KWOHdlQajX6592fIvFAk9PT8REWJQrC8JgMACDwTCTm9FoXGiD1QJoZUEwm83Q6XRm4m+1WoCqgbesLAg7OzvQ7XZn8m232+ByuXhjIJ5jHI/HOOiPd9oMDg8PoVQqqeaoPRAIe3t7tC6o7YRWwvX1NUQiEbzBxWIxSKVS1IE5nU58j3BxcYE3w2g0Cui+w2QyUfugNkTPHVglm81O4vE4qxvi/Gq1OlGOy0mj0SCO7+/vT5Q7S+IYrZLLDyhqxBcwdDgcgF4iRWg7iAycp28JgoKmBEGCMG0qWQmiK4EHKcJCytBunsIqgQcpwkLK0AKA7ISBwIMUYSFlVgKEZZIiehIm2QqrhGWSIqTE9OiEgbBMUkRPwiRbYSAskxQhJaZHJwyEZZIiehIm2QoDgRcpsigpQ0p2nk4YCDxIERZSZl7CRD0t8fCV3VekihYp8pVfmrF/glRZBilCXF0dSmHtoCOGbzeVIChLwI1jfHx8xA9MkdhsNrDb7cJW+OHhAfr9PvaPaHhW4QICOgnQP1UuLy9xPOifJIguFyU3NzdQLpexe/S0em1tjelSBrQDM3n4DybLPUFZRAmCBGHay7ISZCXISlDPNdkOsh2mxfAO2I0OQa0O8OQAAAAASUVORK5CYII=)\n",
    "\n",
    "The effect of this gate renders the qubit’s state unchanged."
   ]
  },
  {
   "cell_type": "code",
   "execution_count": 11,
   "id": "38219488",
   "metadata": {},
   "outputs": [],
   "source": [
    "import qiskit\n",
    "from qiskit import QuantumCircuit, QuantumRegister, ClassicalRegister\n",
    "\n",
    "qreg_q = QuantumRegister(1,'q')"
   ]
  },
  {
   "cell_type": "markdown",
   "id": "5fb9f521",
   "metadata": {},
   "source": [
    "qreg_q → A variable name chosen by you. It will store a quantum register.\\\n",
    "QuantumRegister(1, 'q') → Creates a quantum register with:\\\n",
    "1 → the number of qubits (just one qubit here).\\\n",
    "'q' → the label name of the register. The qubit will be referred to as q[0].\\\n",
    "So qreg_q now represents one qubit named q[0]."
   ]
  },
  {
   "cell_type": "code",
   "execution_count": 12,
   "id": "5b7ee9c2",
   "metadata": {},
   "outputs": [],
   "source": [
    "creg_c = ClassicalRegister(1,'c')"
   ]
  },
  {
   "cell_type": "markdown",
   "id": "2484a53d",
   "metadata": {},
   "source": [
    "creg_c → Variable storing a classical register.\\\n",
    "ClassicalRegister(1, 'c') → Creates a classical register with:\\\n",
    "1 → the number of classical bits (just one).\\\n",
    "'c' → the label name of the register. The bit will be referred to as c[0].\\\n",
    "So creg_c now represents one classical bit named c[0]."
   ]
  },
  {
   "cell_type": "code",
   "execution_count": 13,
   "id": "55281be6",
   "metadata": {},
   "outputs": [],
   "source": [
    "I_qc = QuantumCircuit(qreg_q,creg_c,name='qc')"
   ]
  },
  {
   "cell_type": "markdown",
   "id": "91d28db4",
   "metadata": {},
   "source": [
    "I_qc → A variable holding your quantum circuit.\\\n",
    "QuantumCircuit(...) → Creates a new circuit object.\\\n",
    "qreg_q → attaches the quantum register (your qubit).\\\n",
    "creg_c → attaches the classical register (your classical bit).\\\n",
    "name='qc' → gives the circuit the name qc.\\\n",
    "So I_qc is now a circuit with 1 qubit and 1 classical bit."
   ]
  },
  {
   "cell_type": "code",
   "execution_count": 14,
   "id": "2ec6e82b",
   "metadata": {},
   "outputs": [
    {
     "data": {
      "text/html": [
       "<pre style=\"word-wrap: normal;white-space: pre;background: #fff0;line-height: 1.1;font-family: &quot;Courier New&quot;,Courier,monospace\">     \n",
       "  q: \n",
       "     \n",
       "c: 1/\n",
       "     </pre>"
      ],
      "text/plain": [
       "     \n",
       "  q: \n",
       "     \n",
       "c: 1/\n",
       "     "
      ]
     },
     "execution_count": 14,
     "metadata": {},
     "output_type": "execute_result"
    }
   ],
   "source": [
    "I_qc.draw()"
   ]
  },
  {
   "cell_type": "markdown",
   "id": "d764707b",
   "metadata": {},
   "source": [
    ".draw() → A method of QuantumCircuit that draws the circuit in ASCII art form (plain text, in the console).\\\n",
    "At this point the circuit has no gates yet, so it will just show the qubit and classical bit lines."
   ]
  },
  {
   "cell_type": "code",
   "execution_count": 15,
   "id": "dfabb817",
   "metadata": {},
   "outputs": [
    {
     "data": {
      "image/png": "[encoded data removed]",
      "text/plain": [
       "<Figure size 143.647x200.667 with 1 Axes>"
      ]
     },
     "execution_count": 15,
     "metadata": {},
     "output_type": "execute_result"
    }
   ],
   "source": [
    "I_qc.draw('mpl')"
   ]
  },
  {
   "cell_type": "markdown",
   "id": "75385ba9",
   "metadata": {},
   "source": [
    "'mpl' → Tells Qiskit to use Matplotlib for drawing."
   ]
  },
  {
   "cell_type": "code",
   "execution_count": 16,
   "id": "c187f9a2",
   "metadata": {},
   "outputs": [
    {
     "data": {
      "text/html": [
       "<pre style=\"word-wrap: normal;white-space: pre;background: #fff0;line-height: 1.1;font-family: &quot;Courier New&quot;,Courier,monospace\">     ┌───┐\n",
       "  q: ┤ I ├\n",
       "     └───┘\n",
       "c: 1/═════\n",
       "          </pre>"
      ],
      "text/plain": [
       "     ┌───┐\n",
       "  q: ┤ I ├\n",
       "     └───┘\n",
       "c: 1/═════\n",
       "          "
      ]
     },
     "execution_count": 16,
     "metadata": {},
     "output_type": "execute_result"
    }
   ],
   "source": [
    "I_qc.id(qreg_q[0])\n",
    "I_qc.draw()"
   ]
  },
  {
   "cell_type": "markdown",
   "id": "ddfc454e",
   "metadata": {},
   "source": [
    ".id(...) → Adds the identity gate (I) to the circuit.\\\n",
    "Identity gate does nothing, but it’s useful for timing/alignment.\\\n",
    "qreg_q[0] → Refers to the first qubit in the register (since you only have 1, it’s qubit 0).\\\n",
    "So this line says: apply the identity gate on qubit 0."
   ]
  },
  {
   "cell_type": "code",
   "execution_count": 17,
   "id": "ea7362e8",
   "metadata": {},
   "outputs": [
    {
     "data": {
      "image/png": "[encoded data removed]",
      "text/plain": [
       "<Figure size 185.453x200.667 with 1 Axes>"
      ]
     },
     "execution_count": 17,
     "metadata": {},
     "output_type": "execute_result"
    }
   ],
   "source": [
    "I_qc.draw('mpl')"
   ]
  },
  {
   "cell_type": "markdown",
   "id": "fc10ac38",
   "metadata": {},
   "source": [
    "# Next Read\n",
    "\n",
    "https://quantum.cloud.ibm.com/docs/en/tutorials/hello-world"
   ]
  }
 ],
 "metadata": {
  "kernelspec": {
   "display_name": "qiskit_2.0",
   "language": "python",
   "name": "python3"
  },
  "language_info": {
   "codemirror_mode": {
    "name": "ipython",
    "version": 3
   },
   "file_extension": ".py",
   "mimetype": "text/x-python",
   "name": "python",
   "nbconvert_exporter": "python",
   "pygments_lexer": "ipython3",
   "version": "3.12.11"
  }
 },
 "nbformat": 4,
 "nbformat_minor": 5
}
